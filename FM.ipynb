{
 "cells": [
  {
   "cell_type": "code",
   "execution_count": 1,
   "metadata": {},
   "outputs": [],
   "source": [
    "import os\n",
    "os.environ[\"CUDA_VISIBLE_DEVICES\"]=\"0\""
   ]
  },
  {
   "cell_type": "code",
   "execution_count": 2,
   "metadata": {},
   "outputs": [],
   "source": [
    "import torch\n",
    "import numpy as np\n",
    "import pandas as pd\n",
    "import torch.nn as nn\n",
    "from sklearn.model_selection import train_test_split\n",
    "from tqdm.auto import tqdm\n",
    "import time\n",
    "import datetime\n",
    "import pickle\n",
    "from torch.utils.data import Dataset, DataLoader\n",
    "from torcheval.metrics import BinaryAUROC\n",
    "\n",
    "DEVICE = torch.device(\"cuda\" if torch.cuda.is_available() else \"cpu\")"
   ]
  },
  {
   "cell_type": "code",
   "execution_count": 3,
   "metadata": {},
   "outputs": [],
   "source": [
    "dfr = pd.read_pickle('/home/rouse_ai/nha/KLTN/ratings.pickle')\n",
    "dfu = pd.read_pickle('/home/rouse_ai/nha/KLTN/user_info.pickle')\n",
    "dfm = pd.read_pickle('/home/rouse_ai/nha/KLTN/movie_info.pickle')"
   ]
  },
  {
   "cell_type": "code",
   "execution_count": 4,
   "metadata": {},
   "outputs": [],
   "source": [
    "genres = [\"Action\",\"Adventure\",\"Animation\",\"Children's\",\"Comedy\",\"Crime\",\"Documentary\",\"Drama\",\"Fantasy\",\"Film-Noir\",\"Horror\",\"Musical\",\"Mystery\",\"Romance\",\"Sci-Fi\",\"Thriller\",\"War\",\"Western\",]\n",
    "num_genres = len(genres)"
   ]
  },
  {
   "cell_type": "code",
   "execution_count": 5,
   "metadata": {},
   "outputs": [],
   "source": [
    "df = pd.concat([pd.merge(dfr[['userIDX']], dfu, on='userIDX', how='left'), \n",
    "           pd.merge(dfr[['movieIDX']], dfm, on='movieIDX', how='left'),\n",
    "           dfr[['rating']]], axis=1)\n",
    "del dfr, dfu, dfm"
   ]
  },
  {
   "cell_type": "code",
   "execution_count": 6,
   "metadata": {},
   "outputs": [],
   "source": [
    "size_onehot_each_column = df.iloc[:, :-2].max().values + 1"
   ]
  },
  {
   "cell_type": "code",
   "execution_count": 7,
   "metadata": {},
   "outputs": [],
   "source": [
    "cumsum_size_onehot = np.cumsum(size_onehot_each_column)\n",
    "df.iloc[:, 1:-2] = df.iloc[:, 1:-2] + cumsum_size_onehot[:-1]"
   ]
  },
  {
   "cell_type": "code",
   "execution_count": 8,
   "metadata": {},
   "outputs": [],
   "source": [
    "size_vector_onehot_total = cumsum_size_onehot[-1] + num_genres"
   ]
  },
  {
   "cell_type": "code",
   "execution_count": 9,
   "metadata": {},
   "outputs": [
    {
     "data": {
      "text/plain": [
       "9993"
      ]
     },
     "execution_count": 9,
     "metadata": {},
     "output_type": "execute_result"
    }
   ],
   "source": [
    "size_vector_onehot_total"
   ]
  },
  {
   "cell_type": "code",
   "execution_count": 10,
   "metadata": {},
   "outputs": [],
   "source": [
    "df['genres'] = df['genres'].map(lambda x: np.asarray(x))\n",
    "df['genres'] = df['genres'] + cumsum_size_onehot[-1]\n",
    "\n",
    "# padding thêm để load được dưới dạng batch. Mở rộng ma trận embedding thêm 1 hàng và không dùng đến hàng này. Trong vector onehot của genre,  những giá trị khác 1 \n",
    "# trong genres sẽ được fill = size vector onehot, có nghĩa là khi đc embedding, nó sẽ tương ứng với hàng cuối cùng (đc mở rộng ở trên) nên kh xài.\n",
    "def padding_genres(x, len_=num_genres):\n",
    "    pad_arr = np.full(num_genres-len(x), fill_value=size_vector_onehot_total, dtype=int)\n",
    "    return np.concatenate((x, pad_arr), axis=0).astype(int)\n",
    "\n",
    "df['genres'] = df['genres'].map(lambda x: padding_genres(x))"
   ]
  },
  {
   "cell_type": "code",
   "execution_count": 11,
   "metadata": {},
   "outputs": [],
   "source": [
    "df_genres = pd.DataFrame(np.asarray(list(df['genres'].values)), columns=[f'genre_{i}' for i in range(1, num_genres+1)])"
   ]
  },
  {
   "cell_type": "code",
   "execution_count": 12,
   "metadata": {},
   "outputs": [],
   "source": [
    "df = pd.concat([df.iloc[:, :-2], df_genres, df['rating']], axis=1)"
   ]
  },
  {
   "cell_type": "code",
   "execution_count": 13,
   "metadata": {},
   "outputs": [],
   "source": [
    "df['rating'] = df['rating'].map(lambda x: 0 if x<4 else 1)"
   ]
  },
  {
   "cell_type": "code",
   "execution_count": 14,
   "metadata": {},
   "outputs": [
    {
     "data": {
      "text/html": [
       "<div>\n",
       "<style scoped>\n",
       "    .dataframe tbody tr th:only-of-type {\n",
       "        vertical-align: middle;\n",
       "    }\n",
       "\n",
       "    .dataframe tbody tr th {\n",
       "        vertical-align: top;\n",
       "    }\n",
       "\n",
       "    .dataframe thead th {\n",
       "        text-align: right;\n",
       "    }\n",
       "</style>\n",
       "<table border=\"1\" class=\"dataframe\">\n",
       "  <thead>\n",
       "    <tr style=\"text-align: right;\">\n",
       "      <th></th>\n",
       "      <th>userIDX</th>\n",
       "      <th>gender</th>\n",
       "      <th>age</th>\n",
       "      <th>occupation</th>\n",
       "      <th>movieIDX</th>\n",
       "      <th>year</th>\n",
       "      <th>genre_1</th>\n",
       "      <th>genre_2</th>\n",
       "      <th>genre_3</th>\n",
       "      <th>genre_4</th>\n",
       "      <th>...</th>\n",
       "      <th>genre_10</th>\n",
       "      <th>genre_11</th>\n",
       "      <th>genre_12</th>\n",
       "      <th>genre_13</th>\n",
       "      <th>genre_14</th>\n",
       "      <th>genre_15</th>\n",
       "      <th>genre_16</th>\n",
       "      <th>genre_17</th>\n",
       "      <th>genre_18</th>\n",
       "      <th>rating</th>\n",
       "    </tr>\n",
       "  </thead>\n",
       "  <tbody>\n",
       "    <tr>\n",
       "      <th>0</th>\n",
       "      <td>0</td>\n",
       "      <td>6040</td>\n",
       "      <td>6042</td>\n",
       "      <td>6059</td>\n",
       "      <td>7246</td>\n",
       "      <td>9965</td>\n",
       "      <td>9982</td>\n",
       "      <td>9993</td>\n",
       "      <td>9993</td>\n",
       "      <td>9993</td>\n",
       "      <td>...</td>\n",
       "      <td>9993</td>\n",
       "      <td>9993</td>\n",
       "      <td>9993</td>\n",
       "      <td>9993</td>\n",
       "      <td>9993</td>\n",
       "      <td>9993</td>\n",
       "      <td>9993</td>\n",
       "      <td>9993</td>\n",
       "      <td>9993</td>\n",
       "      <td>1</td>\n",
       "    </tr>\n",
       "    <tr>\n",
       "      <th>1</th>\n",
       "      <td>0</td>\n",
       "      <td>6040</td>\n",
       "      <td>6042</td>\n",
       "      <td>6059</td>\n",
       "      <td>6725</td>\n",
       "      <td>9972</td>\n",
       "      <td>9977</td>\n",
       "      <td>9978</td>\n",
       "      <td>9986</td>\n",
       "      <td>9993</td>\n",
       "      <td>...</td>\n",
       "      <td>9993</td>\n",
       "      <td>9993</td>\n",
       "      <td>9993</td>\n",
       "      <td>9993</td>\n",
       "      <td>9993</td>\n",
       "      <td>9993</td>\n",
       "      <td>9993</td>\n",
       "      <td>9993</td>\n",
       "      <td>9993</td>\n",
       "      <td>0</td>\n",
       "    </tr>\n",
       "    <tr>\n",
       "      <th>2</th>\n",
       "      <td>0</td>\n",
       "      <td>6040</td>\n",
       "      <td>6042</td>\n",
       "      <td>6059</td>\n",
       "      <td>6972</td>\n",
       "      <td>9963</td>\n",
       "      <td>9986</td>\n",
       "      <td>9988</td>\n",
       "      <td>9993</td>\n",
       "      <td>9993</td>\n",
       "      <td>...</td>\n",
       "      <td>9993</td>\n",
       "      <td>9993</td>\n",
       "      <td>9993</td>\n",
       "      <td>9993</td>\n",
       "      <td>9993</td>\n",
       "      <td>9993</td>\n",
       "      <td>9993</td>\n",
       "      <td>9993</td>\n",
       "      <td>9993</td>\n",
       "      <td>0</td>\n",
       "    </tr>\n",
       "    <tr>\n",
       "      <th>3</th>\n",
       "      <td>0</td>\n",
       "      <td>6040</td>\n",
       "      <td>6042</td>\n",
       "      <td>6059</td>\n",
       "      <td>9409</td>\n",
       "      <td>9974</td>\n",
       "      <td>9982</td>\n",
       "      <td>9993</td>\n",
       "      <td>9993</td>\n",
       "      <td>9993</td>\n",
       "      <td>...</td>\n",
       "      <td>9993</td>\n",
       "      <td>9993</td>\n",
       "      <td>9993</td>\n",
       "      <td>9993</td>\n",
       "      <td>9993</td>\n",
       "      <td>9993</td>\n",
       "      <td>9993</td>\n",
       "      <td>9993</td>\n",
       "      <td>9993</td>\n",
       "      <td>1</td>\n",
       "    </tr>\n",
       "    <tr>\n",
       "      <th>4</th>\n",
       "      <td>0</td>\n",
       "      <td>6040</td>\n",
       "      <td>6042</td>\n",
       "      <td>6059</td>\n",
       "      <td>8356</td>\n",
       "      <td>9973</td>\n",
       "      <td>9977</td>\n",
       "      <td>9978</td>\n",
       "      <td>9979</td>\n",
       "      <td>9993</td>\n",
       "      <td>...</td>\n",
       "      <td>9993</td>\n",
       "      <td>9993</td>\n",
       "      <td>9993</td>\n",
       "      <td>9993</td>\n",
       "      <td>9993</td>\n",
       "      <td>9993</td>\n",
       "      <td>9993</td>\n",
       "      <td>9993</td>\n",
       "      <td>9993</td>\n",
       "      <td>1</td>\n",
       "    </tr>\n",
       "    <tr>\n",
       "      <th>...</th>\n",
       "      <td>...</td>\n",
       "      <td>...</td>\n",
       "      <td>...</td>\n",
       "      <td>...</td>\n",
       "      <td>...</td>\n",
       "      <td>...</td>\n",
       "      <td>...</td>\n",
       "      <td>...</td>\n",
       "      <td>...</td>\n",
       "      <td>...</td>\n",
       "      <td>...</td>\n",
       "      <td>...</td>\n",
       "      <td>...</td>\n",
       "      <td>...</td>\n",
       "      <td>...</td>\n",
       "      <td>...</td>\n",
       "      <td>...</td>\n",
       "      <td>...</td>\n",
       "      <td>...</td>\n",
       "      <td>...</td>\n",
       "      <td>...</td>\n",
       "    </tr>\n",
       "    <tr>\n",
       "      <th>1000204</th>\n",
       "      <td>6039</td>\n",
       "      <td>6041</td>\n",
       "      <td>6044</td>\n",
       "      <td>6055</td>\n",
       "      <td>7145</td>\n",
       "      <td>9969</td>\n",
       "      <td>9979</td>\n",
       "      <td>9993</td>\n",
       "      <td>9993</td>\n",
       "      <td>9993</td>\n",
       "      <td>...</td>\n",
       "      <td>9993</td>\n",
       "      <td>9993</td>\n",
       "      <td>9993</td>\n",
       "      <td>9993</td>\n",
       "      <td>9993</td>\n",
       "      <td>9993</td>\n",
       "      <td>9993</td>\n",
       "      <td>9993</td>\n",
       "      <td>9993</td>\n",
       "      <td>0</td>\n",
       "    </tr>\n",
       "    <tr>\n",
       "      <th>1000205</th>\n",
       "      <td>6039</td>\n",
       "      <td>6041</td>\n",
       "      <td>6044</td>\n",
       "      <td>6055</td>\n",
       "      <td>7148</td>\n",
       "      <td>9970</td>\n",
       "      <td>9982</td>\n",
       "      <td>9988</td>\n",
       "      <td>9991</td>\n",
       "      <td>9993</td>\n",
       "      <td>...</td>\n",
       "      <td>9993</td>\n",
       "      <td>9993</td>\n",
       "      <td>9993</td>\n",
       "      <td>9993</td>\n",
       "      <td>9993</td>\n",
       "      <td>9993</td>\n",
       "      <td>9993</td>\n",
       "      <td>9993</td>\n",
       "      <td>9993</td>\n",
       "      <td>1</td>\n",
       "    </tr>\n",
       "    <tr>\n",
       "      <th>1000206</th>\n",
       "      <td>6039</td>\n",
       "      <td>6041</td>\n",
       "      <td>6044</td>\n",
       "      <td>6055</td>\n",
       "      <td>6628</td>\n",
       "      <td>9972</td>\n",
       "      <td>9979</td>\n",
       "      <td>9982</td>\n",
       "      <td>9993</td>\n",
       "      <td>9993</td>\n",
       "      <td>...</td>\n",
       "      <td>9993</td>\n",
       "      <td>9993</td>\n",
       "      <td>9993</td>\n",
       "      <td>9993</td>\n",
       "      <td>9993</td>\n",
       "      <td>9993</td>\n",
       "      <td>9993</td>\n",
       "      <td>9993</td>\n",
       "      <td>9993</td>\n",
       "      <td>1</td>\n",
       "    </tr>\n",
       "    <tr>\n",
       "      <th>1000207</th>\n",
       "      <td>6039</td>\n",
       "      <td>6041</td>\n",
       "      <td>6044</td>\n",
       "      <td>6055</td>\n",
       "      <td>7150</td>\n",
       "      <td>9967</td>\n",
       "      <td>9982</td>\n",
       "      <td>9993</td>\n",
       "      <td>9993</td>\n",
       "      <td>9993</td>\n",
       "      <td>...</td>\n",
       "      <td>9993</td>\n",
       "      <td>9993</td>\n",
       "      <td>9993</td>\n",
       "      <td>9993</td>\n",
       "      <td>9993</td>\n",
       "      <td>9993</td>\n",
       "      <td>9993</td>\n",
       "      <td>9993</td>\n",
       "      <td>9993</td>\n",
       "      <td>1</td>\n",
       "    </tr>\n",
       "    <tr>\n",
       "      <th>1000208</th>\n",
       "      <td>6039</td>\n",
       "      <td>6041</td>\n",
       "      <td>6044</td>\n",
       "      <td>6055</td>\n",
       "      <td>7151</td>\n",
       "      <td>9967</td>\n",
       "      <td>9978</td>\n",
       "      <td>9982</td>\n",
       "      <td>9983</td>\n",
       "      <td>9989</td>\n",
       "      <td>...</td>\n",
       "      <td>9993</td>\n",
       "      <td>9993</td>\n",
       "      <td>9993</td>\n",
       "      <td>9993</td>\n",
       "      <td>9993</td>\n",
       "      <td>9993</td>\n",
       "      <td>9993</td>\n",
       "      <td>9993</td>\n",
       "      <td>9993</td>\n",
       "      <td>1</td>\n",
       "    </tr>\n",
       "  </tbody>\n",
       "</table>\n",
       "<p>1000209 rows × 25 columns</p>\n",
       "</div>"
      ],
      "text/plain": [
       "         userIDX  gender   age  occupation  movieIDX  year  genre_1  genre_2  \\\n",
       "0              0    6040  6042        6059      7246  9965     9982     9993   \n",
       "1              0    6040  6042        6059      6725  9972     9977     9978   \n",
       "2              0    6040  6042        6059      6972  9963     9986     9988   \n",
       "3              0    6040  6042        6059      9409  9974     9982     9993   \n",
       "4              0    6040  6042        6059      8356  9973     9977     9978   \n",
       "...          ...     ...   ...         ...       ...   ...      ...      ...   \n",
       "1000204     6039    6041  6044        6055      7145  9969     9979     9993   \n",
       "1000205     6039    6041  6044        6055      7148  9970     9982     9988   \n",
       "1000206     6039    6041  6044        6055      6628  9972     9979     9982   \n",
       "1000207     6039    6041  6044        6055      7150  9967     9982     9993   \n",
       "1000208     6039    6041  6044        6055      7151  9967     9978     9982   \n",
       "\n",
       "         genre_3  genre_4  ...  genre_10  genre_11  genre_12  genre_13  \\\n",
       "0           9993     9993  ...      9993      9993      9993      9993   \n",
       "1           9986     9993  ...      9993      9993      9993      9993   \n",
       "2           9993     9993  ...      9993      9993      9993      9993   \n",
       "3           9993     9993  ...      9993      9993      9993      9993   \n",
       "4           9979     9993  ...      9993      9993      9993      9993   \n",
       "...          ...      ...  ...       ...       ...       ...       ...   \n",
       "1000204     9993     9993  ...      9993      9993      9993      9993   \n",
       "1000205     9991     9993  ...      9993      9993      9993      9993   \n",
       "1000206     9993     9993  ...      9993      9993      9993      9993   \n",
       "1000207     9993     9993  ...      9993      9993      9993      9993   \n",
       "1000208     9983     9989  ...      9993      9993      9993      9993   \n",
       "\n",
       "         genre_14  genre_15  genre_16  genre_17  genre_18  rating  \n",
       "0            9993      9993      9993      9993      9993       1  \n",
       "1            9993      9993      9993      9993      9993       0  \n",
       "2            9993      9993      9993      9993      9993       0  \n",
       "3            9993      9993      9993      9993      9993       1  \n",
       "4            9993      9993      9993      9993      9993       1  \n",
       "...           ...       ...       ...       ...       ...     ...  \n",
       "1000204      9993      9993      9993      9993      9993       0  \n",
       "1000205      9993      9993      9993      9993      9993       1  \n",
       "1000206      9993      9993      9993      9993      9993       1  \n",
       "1000207      9993      9993      9993      9993      9993       1  \n",
       "1000208      9993      9993      9993      9993      9993       1  \n",
       "\n",
       "[1000209 rows x 25 columns]"
      ]
     },
     "execution_count": 14,
     "metadata": {},
     "output_type": "execute_result"
    }
   ],
   "source": [
    "df"
   ]
  },
  {
   "cell_type": "code",
   "execution_count": 15,
   "metadata": {},
   "outputs": [],
   "source": [
    "data_train, data_test = train_test_split(df.values, test_size=0.12, random_state=69)\n",
    "del df"
   ]
  },
  {
   "cell_type": "code",
   "execution_count": null,
   "metadata": {},
   "outputs": [],
   "source": []
  },
  {
   "cell_type": "code",
   "execution_count": 16,
   "metadata": {},
   "outputs": [],
   "source": [
    "class MovieDataset(Dataset):\n",
    "\n",
    "    def __init__(self, data, transform=None):\n",
    "        self.data = data\n",
    "\n",
    "    def __len__(self):\n",
    "        return len(self.data)\n",
    "\n",
    "    def __getitem__(self, idx):\n",
    "\n",
    "        one_indices_ = self.data[idx, :-1]\n",
    "        label_ = self.data[idx, -1]\n",
    "\n",
    "        one_indices_ = torch.from_numpy(one_indices_).type(torch.int32)\n",
    "        label_ = torch.tensor(label_, dtype=torch.float32)\n",
    "        \n",
    "        return one_indices_, label_"
   ]
  },
  {
   "cell_type": "code",
   "execution_count": 17,
   "metadata": {},
   "outputs": [],
   "source": [
    "# ctr_dataset = MovieDataset(data=data_train)\n",
    "# dataloader = DataLoader(ctr_dataset, batch_size=4, shuffle=True, num_workers=0)\n",
    "# for sample_batched in dataloader:\n",
    "#     for i in sample_batched:\n",
    "#         print(i.shape)\n",
    "#     break"
   ]
  },
  {
   "cell_type": "code",
   "execution_count": 18,
   "metadata": {},
   "outputs": [],
   "source": [
    "class ProbToBinary(nn.Module):\n",
    "    def __init__(self, threshold=0.5):\n",
    "        super(ProbToBinary, self).__init__()\n",
    "        self.threshold = threshold\n",
    "        self.sigmoid = nn.Sigmoid()\n",
    "    def forward(self, x):\n",
    "        x = self.sigmoid(x)\n",
    "        x[torch.where(x < self.threshold)[0]] = 0\n",
    "        x[torch.where(x > self.threshold)[0]] = 1\n",
    "        return x"
   ]
  },
  {
   "cell_type": "code",
   "execution_count": 19,
   "metadata": {},
   "outputs": [],
   "source": [
    "class FM(nn.Module):\n",
    "    def __init__(self, size_vector_onehot, num_og_feature, num_factors):\n",
    "        \"\"\"\n",
    "        Deep Factorization Machine model\n",
    "\n",
    "        Args:\n",
    "            size_vector_onehot (int): size vector onehot\n",
    "            num_og_feature (int): num original features\n",
    "            num_factors (int): size of latent vector\n",
    "        \"\"\"\n",
    "\n",
    "        super(FM, self).__init__()\n",
    "        self.size_vector_onehot = size_vector_onehot\n",
    "        self.num_factors = num_factors\n",
    "        self.embedding = nn.Embedding(size_vector_onehot + 1 , num_factors, padding_idx=size_vector_onehot)\n",
    "        self.linear_layer = nn.Embedding(size_vector_onehot + 1, 1, padding_idx=size_vector_onehot)\n",
    "        self.bias = nn.Parameter(torch.randn(1), requires_grad=True)\n",
    "\n",
    "    def forward(self, x):\n",
    "        \"\"\"\n",
    "        Only works for data in batch format\n",
    "        Args:\n",
    "            x (array like): (batchsize, one indices)\n",
    "\n",
    "        Returns:\n",
    "              feature (torch.Tensor) : (batch_size, num_factors)\n",
    "        \"\"\"\n",
    "\n",
    "        embedded_xs = self.embedding(x)\n",
    "\n",
    "        # ---------------FM--------------------\n",
    "        square_of_sum = embedded_xs.sum(1).pow(2).sum(1)\n",
    "        sum_of_square = embedded_xs.pow(2).sum(1).sum(1)\n",
    "\n",
    "        degree2_part =  0.5 * (square_of_sum - sum_of_square)\n",
    "        degree2_part = torch.unsqueeze(degree2_part, -1)\n",
    "\n",
    "        linear_part = self.linear_layer(x).sum(1) + self.bias\n",
    "\n",
    "        out = linear_part + degree2_part\n",
    "\n",
    "        out = out[:, 0]\n",
    "        return out\n"
   ]
  },
  {
   "cell_type": "code",
   "execution_count": 20,
   "metadata": {},
   "outputs": [],
   "source": [
    "batch_size = 768\n",
    "dataset_train = MovieDataset(data=data_train)\n",
    "dataset_test = MovieDataset(data=data_test)\n",
    "loaders = {'train': DataLoader(dataset_train, batch_size, num_workers=10, shuffle=True),\n",
    "          'val': DataLoader(dataset_test, batch_size, num_workers=10, shuffle=False)}"
   ]
  },
  {
   "cell_type": "code",
   "execution_count": 21,
   "metadata": {},
   "outputs": [],
   "source": [
    "num_factors=16\n",
    "model = FM(size_vector_onehot=size_vector_onehot_total, num_og_feature=data_train.shape[1]-1, num_factors=num_factors)\n",
    "model = model.to(DEVICE)\n",
    "ptb = ProbToBinary()"
   ]
  },
  {
   "cell_type": "code",
   "execution_count": 22,
   "metadata": {},
   "outputs": [],
   "source": [
    "def lr_base_on_epoch(epoch:int):\n",
    "    if epoch <=5:\n",
    "        gamma = 0.11\n",
    "    elif epoch <=10:\n",
    "        gamma = 0.01\n",
    "    elif epoch <=40:\n",
    "        gamma = 1e-3\n",
    "    elif epoch <=80:\n",
    "        gamma = 5e-4\n",
    "    else:\n",
    "        gamma = 1e-4\n",
    "    return gamma\n",
    "\n",
    "criterion = torch.nn.BCEWithLogitsLoss()\n",
    "optimizer = torch.optim.Adam(model.parameters(), lr=1)\n",
    "lambda_function = lambda epoch: lr_base_on_epoch(epoch=epoch)\n",
    "scheduler = torch.optim.lr_scheduler.LambdaLR(optimizer, lr_lambda=lambda_function)\n",
    "metric = BinaryAUROC().to(DEVICE)"
   ]
  },
  {
   "cell_type": "code",
   "execution_count": 23,
   "metadata": {},
   "outputs": [],
   "source": [
    "best_val_score = 0."
   ]
  },
  {
   "cell_type": "code",
   "execution_count": 24,
   "metadata": {},
   "outputs": [
    {
     "name": "stdout",
     "output_type": "stream",
     "text": [
      "Epoch 0   train loss: 1.5938  -  val loss: 1.7767  -  val accuracy: 0.6444  -  val ROC AUC: 0.6839  -  lr: 0.11  -  time: 14.377117156982422\n",
      "Epoch 1   train loss: 1.7907  -  val loss: 1.8429  -  val accuracy: 0.6468  -  val ROC AUC: 0.6843  -  lr: 0.11  -  time: 16.673476457595825\n",
      "Epoch 2   train loss: 1.7866  -  val loss: 1.9044  -  val accuracy: 0.6453  -  val ROC AUC: 0.6848  -  lr: 0.11  -  time: 12.349424123764038\n",
      "Epoch 3   train loss: 1.7830  -  val loss: 1.8935  -  val accuracy: 0.6519  -  val ROC AUC: 0.6857  -  lr: 0.11  -  time: 12.211445093154907\n",
      "Epoch 4   train loss: 1.7955  -  val loss: 1.8856  -  val accuracy: 0.6541  -  val ROC AUC: 0.6870  -  lr: 0.11  -  time: 10.167596101760864\n",
      "Epoch 5   train loss: 1.8105  -  val loss: 1.9069  -  val accuracy: 0.6538  -  val ROC AUC: 0.6879  -  lr: 0.01  -  time: 11.94425344467163\n",
      "Epoch 6   train loss: 1.0755  -  val loss: 1.0369  -  val accuracy: 0.7000  -  val ROC AUC: 0.6933  -  lr: 0.01  -  time: 6.546706676483154\n",
      "Epoch 7   train loss: 0.7000  -  val loss: 0.8830  -  val accuracy: 0.7044  -  val ROC AUC: 0.6969  -  lr: 0.01  -  time: 10.300031661987305\n",
      "Epoch 8   train loss: 0.5894  -  val loss: 0.8147  -  val accuracy: 0.7092  -  val ROC AUC: 0.7002  -  lr: 0.01  -  time: 12.232677698135376\n",
      "Epoch 9   train loss: 0.5419  -  val loss: 0.7836  -  val accuracy: 0.7093  -  val ROC AUC: 0.7032  -  lr: 0.01  -  time: 12.20525574684143\n",
      "Epoch 10   train loss: 0.5155  -  val loss: 0.7691  -  val accuracy: 0.7123  -  val ROC AUC: 0.7062  -  lr: 0.001  -  time: 11.668881177902222\n",
      "Epoch 11   train loss: 0.4550  -  val loss: 0.7516  -  val accuracy: 0.7141  -  val ROC AUC: 0.7091  -  lr: 0.001  -  time: 10.331443309783936\n",
      "Epoch 12   train loss: 0.4456  -  val loss: 0.7493  -  val accuracy: 0.7148  -  val ROC AUC: 0.7119  -  lr: 0.001  -  time: 10.034165620803833\n",
      "Epoch 13   train loss: 0.4409  -  val loss: 0.7486  -  val accuracy: 0.7150  -  val ROC AUC: 0.7145  -  lr: 0.001  -  time: 13.429772138595581\n",
      "Epoch 14   train loss: 0.4375  -  val loss: 0.7484  -  val accuracy: 0.7152  -  val ROC AUC: 0.7169  -  lr: 0.001  -  time: 15.055702209472656\n",
      "Epoch 15   train loss: 0.4346  -  val loss: 0.7482  -  val accuracy: 0.7145  -  val ROC AUC: 0.7191  -  lr: 0.001  -  time: 9.961394309997559\n",
      "Epoch 16   train loss: 0.4320  -  val loss: 0.7489  -  val accuracy: 0.7147  -  val ROC AUC: 0.7212  -  lr: 0.001  -  time: 8.366827487945557\n",
      "Epoch 17   train loss: 0.4298  -  val loss: 0.7494  -  val accuracy: 0.7145  -  val ROC AUC: 0.7231  -  lr: 0.001  -  time: 7.723289966583252\n",
      "Epoch 18   train loss: 0.4278  -  val loss: 0.7509  -  val accuracy: 0.7147  -  val ROC AUC: 0.7249  -  lr: 0.001  -  time: 8.409032106399536\n",
      "Epoch 19   train loss: 0.4259  -  val loss: 0.7513  -  val accuracy: 0.7149  -  val ROC AUC: 0.7265  -  lr: 0.001  -  time: 12.450648069381714\n",
      "Epoch 20   train loss: 0.4243  -  val loss: 0.7522  -  val accuracy: 0.7143  -  val ROC AUC: 0.7280  -  lr: 0.001  -  time: 15.36368989944458\n",
      "Epoch 21   train loss: 0.4226  -  val loss: 0.7526  -  val accuracy: 0.7146  -  val ROC AUC: 0.7294  -  lr: 0.001  -  time: 16.70949077606201\n",
      "Epoch 22   train loss: 0.4210  -  val loss: 0.7539  -  val accuracy: 0.7137  -  val ROC AUC: 0.7307  -  lr: 0.001  -  time: 13.789441347122192\n",
      "Epoch 23   train loss: 0.4194  -  val loss: 0.7553  -  val accuracy: 0.7146  -  val ROC AUC: 0.7319  -  lr: 0.001  -  time: 10.88167953491211\n",
      "Epoch 24   train loss: 0.4181  -  val loss: 0.7568  -  val accuracy: 0.7145  -  val ROC AUC: 0.7331  -  lr: 0.001  -  time: 9.710083723068237\n",
      "Epoch 25   train loss: 0.4167  -  val loss: 0.7576  -  val accuracy: 0.7141  -  val ROC AUC: 0.7341  -  lr: 0.001  -  time: 9.006935119628906\n",
      "Epoch 26   train loss: 0.4154  -  val loss: 0.7586  -  val accuracy: 0.7141  -  val ROC AUC: 0.7351  -  lr: 0.001  -  time: 11.512831449508667\n",
      "Epoch 27   train loss: 0.4140  -  val loss: 0.7598  -  val accuracy: 0.7136  -  val ROC AUC: 0.7361  -  lr: 0.001  -  time: 14.609663724899292\n",
      "Epoch 28   train loss: 0.4128  -  val loss: 0.7613  -  val accuracy: 0.7141  -  val ROC AUC: 0.7369  -  lr: 0.001  -  time: 15.050207138061523\n",
      "Epoch 29   train loss: 0.4115  -  val loss: 0.7628  -  val accuracy: 0.7134  -  val ROC AUC: 0.7378  -  lr: 0.001  -  time: 15.55098032951355\n",
      "Epoch 30   train loss: 0.4102  -  val loss: 0.7640  -  val accuracy: 0.7136  -  val ROC AUC: 0.7386  -  lr: 0.001  -  time: 11.670611381530762\n",
      "Epoch 31   train loss: 0.4091  -  val loss: 0.7651  -  val accuracy: 0.7136  -  val ROC AUC: 0.7393  -  lr: 0.001  -  time: 5.707115650177002\n",
      "Epoch 32   train loss: 0.4080  -  val loss: 0.7668  -  val accuracy: 0.7134  -  val ROC AUC: 0.7400  -  lr: 0.001  -  time: 5.417590618133545\n",
      "Epoch 33   train loss: 0.4068  -  val loss: 0.7680  -  val accuracy: 0.7137  -  val ROC AUC: 0.7406  -  lr: 0.001  -  time: 5.068105936050415\n",
      "Epoch 34   train loss: 0.4058  -  val loss: 0.7694  -  val accuracy: 0.7136  -  val ROC AUC: 0.7412  -  lr: 0.001  -  time: 4.502360105514526\n",
      "Epoch 35   train loss: 0.4047  -  val loss: 0.7707  -  val accuracy: 0.7136  -  val ROC AUC: 0.7418  -  lr: 0.001  -  time: 4.693431377410889\n",
      "Epoch 36   train loss: 0.4039  -  val loss: 0.7720  -  val accuracy: 0.7136  -  val ROC AUC: 0.7424  -  lr: 0.001  -  time: 4.9295289516448975\n",
      "Epoch 37   train loss: 0.4027  -  val loss: 0.7732  -  val accuracy: 0.7144  -  val ROC AUC: 0.7429  -  lr: 0.001  -  time: 5.600984573364258\n",
      "Epoch 38   train loss: 0.4016  -  val loss: 0.7745  -  val accuracy: 0.7137  -  val ROC AUC: 0.7434  -  lr: 0.001  -  time: 5.39616847038269\n",
      "Epoch 39   train loss: 0.4009  -  val loss: 0.7765  -  val accuracy: 0.7135  -  val ROC AUC: 0.7439  -  lr: 0.001  -  time: 5.2354161739349365\n",
      "Epoch 40   train loss: 0.3999  -  val loss: 0.7778  -  val accuracy: 0.7137  -  val ROC AUC: 0.7444  -  lr: 0.0005  -  time: 4.805742979049683\n",
      "Epoch 41   train loss: 0.3952  -  val loss: 0.7784  -  val accuracy: 0.7137  -  val ROC AUC: 0.7448  -  lr: 0.0005  -  time: 4.879879951477051\n",
      "Epoch 42   train loss: 0.3947  -  val loss: 0.7791  -  val accuracy: 0.7139  -  val ROC AUC: 0.7452  -  lr: 0.0005  -  time: 4.777172803878784\n",
      "Epoch 43   train loss: 0.3942  -  val loss: 0.7799  -  val accuracy: 0.7134  -  val ROC AUC: 0.7456  -  lr: 0.0005  -  time: 4.807186841964722\n",
      "Epoch 44   train loss: 0.3939  -  val loss: 0.7808  -  val accuracy: 0.7138  -  val ROC AUC: 0.7460  -  lr: 0.0005  -  time: 4.96669864654541\n",
      "Epoch 45   train loss: 0.3933  -  val loss: 0.7817  -  val accuracy: 0.7137  -  val ROC AUC: 0.7463  -  lr: 0.0005  -  time: 5.039312839508057\n",
      "Epoch 46   train loss: 0.3930  -  val loss: 0.7825  -  val accuracy: 0.7136  -  val ROC AUC: 0.7467  -  lr: 0.0005  -  time: 4.773997068405151\n",
      "Epoch 47   train loss: 0.3925  -  val loss: 0.7832  -  val accuracy: 0.7139  -  val ROC AUC: 0.7470  -  lr: 0.0005  -  time: 4.695246458053589\n",
      "Epoch 48   train loss: 0.3919  -  val loss: 0.7839  -  val accuracy: 0.7136  -  val ROC AUC: 0.7473  -  lr: 0.0005  -  time: 4.594294548034668\n",
      "Epoch 49   train loss: 0.3917  -  val loss: 0.7847  -  val accuracy: 0.7137  -  val ROC AUC: 0.7476  -  lr: 0.0005  -  time: 4.644254446029663\n",
      "Epoch 50   train loss: 0.3912  -  val loss: 0.7856  -  val accuracy: 0.7138  -  val ROC AUC: 0.7479  -  lr: 0.0005  -  time: 4.982020378112793\n",
      "Epoch 51   train loss: 0.3909  -  val loss: 0.7866  -  val accuracy: 0.7138  -  val ROC AUC: 0.7482  -  lr: 0.0005  -  time: 5.5547709465026855\n",
      "Epoch 52   train loss: 0.3904  -  val loss: 0.7875  -  val accuracy: 0.7133  -  val ROC AUC: 0.7485  -  lr: 0.0005  -  time: 5.39121150970459\n",
      "Epoch 53   train loss: 0.3900  -  val loss: 0.7880  -  val accuracy: 0.7135  -  val ROC AUC: 0.7487  -  lr: 0.0005  -  time: 4.842223882675171\n",
      "Epoch 54   train loss: 0.3896  -  val loss: 0.7889  -  val accuracy: 0.7134  -  val ROC AUC: 0.7490  -  lr: 0.0005  -  time: 4.9330527782440186\n",
      "Epoch 55   train loss: 0.3892  -  val loss: 0.7896  -  val accuracy: 0.7136  -  val ROC AUC: 0.7492  -  lr: 0.0005  -  time: 4.76736044883728\n",
      "Epoch 56   train loss: 0.3888  -  val loss: 0.7905  -  val accuracy: 0.7136  -  val ROC AUC: 0.7495  -  lr: 0.0005  -  time: 4.958508014678955\n",
      "Epoch 57   train loss: 0.3884  -  val loss: 0.7912  -  val accuracy: 0.7131  -  val ROC AUC: 0.7497  -  lr: 0.0005  -  time: 5.217380523681641\n",
      "Epoch 58   train loss: 0.3880  -  val loss: 0.7921  -  val accuracy: 0.7133  -  val ROC AUC: 0.7499  -  lr: 0.0005  -  time: 6.011662006378174\n",
      "Epoch 59   train loss: 0.3877  -  val loss: 0.7930  -  val accuracy: 0.7132  -  val ROC AUC: 0.7501  -  lr: 0.0005  -  time: 5.540898084640503\n",
      "Epoch 60   train loss: 0.3875  -  val loss: 0.7938  -  val accuracy: 0.7131  -  val ROC AUC: 0.7503  -  lr: 0.0005  -  time: 5.0722503662109375\n",
      "Epoch 61   train loss: 0.3869  -  val loss: 0.7947  -  val accuracy: 0.7132  -  val ROC AUC: 0.7505  -  lr: 0.0005  -  time: 4.809622287750244\n",
      "Epoch 62   train loss: 0.3866  -  val loss: 0.7955  -  val accuracy: 0.7133  -  val ROC AUC: 0.7507  -  lr: 0.0005  -  time: 4.9763407707214355\n",
      "Epoch 63   train loss: 0.3863  -  val loss: 0.7963  -  val accuracy: 0.7128  -  val ROC AUC: 0.7509  -  lr: 0.0005  -  time: 5.0495970249176025\n",
      "Epoch 64   train loss: 0.3859  -  val loss: 0.7970  -  val accuracy: 0.7132  -  val ROC AUC: 0.7511  -  lr: 0.0005  -  time: 5.061398983001709\n",
      "Epoch 65   train loss: 0.3854  -  val loss: 0.7980  -  val accuracy: 0.7127  -  val ROC AUC: 0.7512  -  lr: 0.0005  -  time: 4.792778968811035\n",
      "Epoch 66   train loss: 0.3852  -  val loss: 0.7988  -  val accuracy: 0.7129  -  val ROC AUC: 0.7514  -  lr: 0.0005  -  time: 5.511727571487427\n",
      "Epoch 67   train loss: 0.3849  -  val loss: 0.7995  -  val accuracy: 0.7129  -  val ROC AUC: 0.7516  -  lr: 0.0005  -  time: 4.449964761734009\n",
      "Epoch 68   train loss: 0.3845  -  val loss: 0.8005  -  val accuracy: 0.7130  -  val ROC AUC: 0.7517  -  lr: 0.0005  -  time: 4.5584611892700195\n",
      "Epoch 69   train loss: 0.3840  -  val loss: 0.8014  -  val accuracy: 0.7126  -  val ROC AUC: 0.7519  -  lr: 0.0005  -  time: 4.552681922912598\n",
      "Epoch 70   train loss: 0.3838  -  val loss: 0.8020  -  val accuracy: 0.7128  -  val ROC AUC: 0.7520  -  lr: 0.0005  -  time: 4.52073860168457\n"
     ]
    }
   ],
   "source": [
    "logs = []\n",
    "first_epoch = True\n",
    "for epoch in range(71):\n",
    "    current_log = {'epoch': epoch, 'loss_train': 0., 'loss_val': 0., 'val_acc':0., 'val_AUC':0., 'lr': optimizer.param_groups[0][\"lr\"]}\n",
    "    start_time = time.time()\n",
    "    for phase in ['train', 'val']:\n",
    "        if phase == 'train':\n",
    "            model.train()\n",
    "        else:\n",
    "            model.eval()\n",
    "\n",
    "        for sample_batched in loaders[phase]:\n",
    "            optimizer.zero_grad()\n",
    "\n",
    "            one_indices, label = sample_batched\n",
    "            one_indices = one_indices.to(DEVICE)\n",
    "            label = label.to(DEVICE)\n",
    "            pred = model(one_indices)  \n",
    "            loss = criterion(pred, label)\n",
    "\n",
    "            current_log[f\"loss_{phase}\"] += loss.item() * batch_size\n",
    "            with torch.set_grad_enabled(phase == 'train'):\n",
    "                if phase == 'train':\n",
    "                    loss.backward()\n",
    "                    optimizer.step()\n",
    "            if phase == 'val':\n",
    "                with torch.no_grad():\n",
    "                    metric.update(pred, label)\n",
    "                    current_log['val_acc'] += (ptb(pred)==label).type(torch.float32).sum(0).item()\n",
    "        current_log[f\"loss_{phase}\"] /= len(loaders[phase].dataset)\n",
    "    current_log['val_acc'] /= len(loaders['val'].dataset)\n",
    "    current_log['val_AUC'] = metric.compute().item()\n",
    "    scheduler.step()\n",
    "    \n",
    "    if current_log['val_acc'] > best_val_score:\n",
    "        torch.save(model.state_dict(), 'FM_Movie.pth')\n",
    "        best_val_score = current_log['val_acc']\n",
    "    else:\n",
    "        if first_epoch==False:\n",
    "            if epoch < 20:\n",
    "                if (best_val_score - current_log['val_AUC']) > 0.2:\n",
    "                    model.load_state_dict(torch.load('FM_Movie.pth'))\n",
    "            else:\n",
    "                if (best_val_score - current_log['val_AUC']) > 0.02:\n",
    "                    model.load_state_dict(torch.load('FM_Movie.pth'))\n",
    "\n",
    "    print(f'Epoch {epoch}   train loss: {current_log[\"loss_train\"]:.4f}  -  val loss: {current_log[\"loss_val\"]:.4f}  -  val accuracy: {current_log[\"val_acc\"]:.4f}  -  val ROC AUC: {current_log[\"val_AUC\"]:.4f}  -  lr: {optimizer.param_groups[0][\"lr\"]}  -  time: {str(time.time()-start_time)}')\n",
    "    logs.append(current_log)\n",
    "    first_epoch = False\n",
    "pickle.dump(logs, open(f'logs_FM{num_factors}_Adam_movie_{str(datetime.datetime.now())}.pkl', 'wb'))"
   ]
  },
  {
   "cell_type": "code",
   "execution_count": null,
   "metadata": {},
   "outputs": [],
   "source": []
  },
  {
   "cell_type": "code",
   "execution_count": null,
   "metadata": {},
   "outputs": [],
   "source": []
  },
  {
   "cell_type": "code",
   "execution_count": 25,
   "metadata": {},
   "outputs": [],
   "source": [
    "import matplotlib.pyplot as plt"
   ]
  },
  {
   "cell_type": "code",
   "execution_count": 36,
   "metadata": {},
   "outputs": [],
   "source": [
    "loss_trains = np.asarray([logs[i]['loss_train'] for i in range(len(logs))])\n",
    "loss_vals = np.asarray([logs[i]['loss_val'] for i in range(len(logs))])\n",
    "val_accs = np.asarray([logs[i]['val_acc'] for i in range(len(logs))])\n",
    "val_aucs = np.asarray([logs[i]['val_AUC'] for i in range(len(logs))])\n",
    "lrs = np.asarray([logs[i]['lr'] for i in range(len(logs))])"
   ]
  },
  {
   "cell_type": "code",
   "execution_count": 38,
   "metadata": {},
   "outputs": [
    {
     "data": {
      "text/plain": [
       "<matplotlib.legend.Legend at 0x7f80c850ab20>"
      ]
     },
     "execution_count": 38,
     "metadata": {},
     "output_type": "execute_result"
    },
    {
     "data": {
      "image/png": "[encoded data removed]",
      "text/plain": [
       "<Figure size 640x480 with 1 Axes>"
      ]
     },
     "metadata": {},
     "output_type": "display_data"
    }
   ],
   "source": [
    "plt.plot(loss_trains, label='loss_train')\n",
    "plt.plot(loss_vals, label='loss_val')\n",
    "\n",
    "\n",
    "plt.legend()"
   ]
  },
  {
   "cell_type": "code",
   "execution_count": 39,
   "metadata": {},
   "outputs": [
    {
     "data": {
      "text/plain": [
       "<matplotlib.legend.Legend at 0x7f80c8617220>"
      ]
     },
     "execution_count": 39,
     "metadata": {},
     "output_type": "execute_result"
    },
    {
     "data": {
      "image/png": "[encoded data removed]",
      "text/plain": [
       "<Figure size 640x480 with 1 Axes>"
      ]
     },
     "metadata": {},
     "output_type": "display_data"
    }
   ],
   "source": [
    "plt.plot(val_accs, label='val_acc')\n",
    "plt.plot(val_aucs, label='val_AUC')\n",
    "plt.legend()"
   ]
  },
  {
   "cell_type": "code",
   "execution_count": 29,
   "metadata": {},
   "outputs": [
    {
     "data": {
      "text/plain": [
       "0.7152450302434472"
      ]
     },
     "execution_count": 29,
     "metadata": {},
     "output_type": "execute_result"
    }
   ],
   "source": [
    "best_val_score"
   ]
  },
  {
   "cell_type": "code",
   "execution_count": 30,
   "metadata": {},
   "outputs": [
    {
     "data": {
      "text/plain": [
       "<matplotlib.legend.Legend at 0x7f80c870ea90>"
      ]
     },
     "execution_count": 30,
     "metadata": {},
     "output_type": "execute_result"
    },
    {
     "data": {
      "image/png": "[encoded data removed]",
      "text/plain": [
       "<Figure size 640x480 with 1 Axes>"
      ]
     },
     "metadata": {},
     "output_type": "display_data"
    }
   ],
   "source": [
    "plt.plot([logs[i]['loss_val'] for i in range(len(logs))], label='loss_val')\n",
    "plt.legend()"
   ]
  },
  {
   "cell_type": "code",
   "execution_count": 31,
   "metadata": {},
   "outputs": [
    {
     "data": {
      "text/plain": [
       "<matplotlib.legend.Legend at 0x7f80c86b5b20>"
      ]
     },
     "execution_count": 31,
     "metadata": {},
     "output_type": "execute_result"
    },
    {
     "data": {
      "image/png": "[encoded data removed]",
      "text/plain": [
       "<Figure size 640x480 with 1 Axes>"
      ]
     },
     "metadata": {},
     "output_type": "display_data"
    }
   ],
   "source": [
    "plt.plot([logs[i]['val_acc'] for i in range(len(logs))], label='val_acc')\n",
    "# plt.plot([logs[i]['lr'] for i in range(len(logs))], label='lr')\n",
    "plt.legend()"
   ]
  },
  {
   "cell_type": "code",
   "execution_count": null,
   "metadata": {},
   "outputs": [],
   "source": []
  },
  {
   "cell_type": "code",
   "execution_count": null,
   "metadata": {},
   "outputs": [],
   "source": []
  },
  {
   "cell_type": "code",
   "execution_count": null,
   "metadata": {},
   "outputs": [],
   "source": []
  },
  {
   "cell_type": "code",
   "execution_count": null,
   "metadata": {},
   "outputs": [],
   "source": []
  },
  {
   "cell_type": "code",
   "execution_count": 32,
   "metadata": {},
   "outputs": [],
   "source": [
    "# Intel(R) Core(TM) i9-10900X CPU @ 3.70GHz\n",
    "# NVIDIA GeForce RTX 3090"
   ]
  }
 ],
 "metadata": {
  "kernelspec": {
   "display_name": "py39",
   "language": "python",
   "name": "python3"
  },
  "language_info": {
   "codemirror_mode": {
    "name": "ipython",
    "version": 3
   },
   "file_extension": ".py",
   "mimetype": "text/x-python",
   "name": "python",
   "nbconvert_exporter": "python",
   "pygments_lexer": "ipython3",
   "version": "3.9.16"
  },
  "orig_nbformat": 4
 },
 "nbformat": 4,
 "nbformat_minor": 2
}

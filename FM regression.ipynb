{
 "cells": [
  {
   "cell_type": "code",
   "execution_count": 1,
   "metadata": {},
   "outputs": [],
   "source": [
    "import os\n",
    "os.environ[\"CUDA_VISIBLE_DEVICES\"]=\"0\""
   ]
  },
  {
   "cell_type": "code",
   "execution_count": 2,
   "metadata": {},
   "outputs": [],
   "source": [
    "import torch\n",
    "import numpy as np\n",
    "import pandas as pd\n",
    "import torch.nn as nn\n",
    "from sklearn.model_selection import train_test_split\n",
    "from tqdm.auto import tqdm\n",
    "import time\n",
    "import datetime\n",
    "import pickle\n",
    "from torch.utils.data import Dataset, DataLoader\n",
    "from torcheval.metrics import R2Score\n",
    "\n",
    "DEVICE = torch.device(\"cuda\" if torch.cuda.is_available() else \"cpu\")"
   ]
  },
  {
   "cell_type": "code",
   "execution_count": 3,
   "metadata": {},
   "outputs": [],
   "source": [
    "dfr = pd.read_pickle('/home/rouse_ai/nha/KLTN/ratings.pickle')\n",
    "dfu = pd.read_pickle('/home/rouse_ai/nha/KLTN/user_info.pickle')\n",
    "dfm = pd.read_pickle('/home/rouse_ai/nha/KLTN/movie_info.pickle')"
   ]
  },
  {
   "cell_type": "code",
   "execution_count": 4,
   "metadata": {},
   "outputs": [],
   "source": [
    "genres = [\"Action\",\"Adventure\",\"Animation\",\"Children's\",\"Comedy\",\"Crime\",\"Documentary\",\"Drama\",\"Fantasy\",\"Film-Noir\",\"Horror\",\"Musical\",\"Mystery\",\"Romance\",\"Sci-Fi\",\"Thriller\",\"War\",\"Western\",]\n",
    "num_genres = len(genres)"
   ]
  },
  {
   "cell_type": "code",
   "execution_count": 5,
   "metadata": {},
   "outputs": [],
   "source": [
    "df = pd.concat([pd.merge(dfr[['userIDX']], dfu, on='userIDX', how='left'), \n",
    "           pd.merge(dfr[['movieIDX']], dfm, on='movieIDX', how='left'),\n",
    "           dfr[['rating']]], axis=1)\n",
    "del dfr, dfu, dfm"
   ]
  },
  {
   "cell_type": "code",
   "execution_count": 6,
   "metadata": {},
   "outputs": [],
   "source": [
    "size_onehot_each_column = df.iloc[:, :-2].max().values + 1"
   ]
  },
  {
   "cell_type": "code",
   "execution_count": 7,
   "metadata": {},
   "outputs": [],
   "source": [
    "cumsum_size_onehot = np.cumsum(size_onehot_each_column)\n",
    "df.iloc[:, 1:-2] = df.iloc[:, 1:-2] + cumsum_size_onehot[:-1]"
   ]
  },
  {
   "cell_type": "code",
   "execution_count": 8,
   "metadata": {},
   "outputs": [],
   "source": [
    "size_vector_onehot_total = cumsum_size_onehot[-1] + num_genres"
   ]
  },
  {
   "cell_type": "code",
   "execution_count": 9,
   "metadata": {},
   "outputs": [
    {
     "data": {
      "text/plain": [
       "9993"
      ]
     },
     "execution_count": 9,
     "metadata": {},
     "output_type": "execute_result"
    }
   ],
   "source": [
    "size_vector_onehot_total"
   ]
  },
  {
   "cell_type": "code",
   "execution_count": 10,
   "metadata": {},
   "outputs": [],
   "source": [
    "df['genres'] = df['genres'].map(lambda x: np.asarray(x))\n",
    "df['genres'] = df['genres'] + cumsum_size_onehot[-1]\n",
    "\n",
    "# padding thêm để load được dưới dạng batch. Mở rộng ma trận embedding thêm 1 hàng và không dùng đến hàng này. Trong vector onehot của genre,  những giá trị khác 1 \n",
    "# trong genres sẽ được fill = size vector onehot, có nghĩa là khi đc embedding, nó sẽ tương ứng với hàng cuối cùng (đc mở rộng ở trên) nên kh xài.\n",
    "def padding_genres(x, len_=num_genres):\n",
    "    pad_arr = np.full(num_genres-len(x), fill_value=size_vector_onehot_total, dtype=int)\n",
    "    return np.concatenate((x, pad_arr), axis=0).astype(int)\n",
    "\n",
    "df['genres'] = df['genres'].map(lambda x: padding_genres(x))"
   ]
  },
  {
   "cell_type": "code",
   "execution_count": 11,
   "metadata": {},
   "outputs": [],
   "source": [
    "df_genres = pd.DataFrame(np.asarray(list(df['genres'].values)), columns=[f'genre_{i}' for i in range(1, num_genres+1)])"
   ]
  },
  {
   "cell_type": "code",
   "execution_count": 12,
   "metadata": {},
   "outputs": [],
   "source": [
    "df = pd.concat([df.iloc[:, :-2], df_genres, df['rating']], axis=1)"
   ]
  },
  {
   "cell_type": "code",
   "execution_count": 13,
   "metadata": {},
   "outputs": [],
   "source": [
    "df['rating'] = df['rating'] - 3"
   ]
  },
  {
   "cell_type": "code",
   "execution_count": 14,
   "metadata": {},
   "outputs": [
    {
     "data": {
      "text/html": [
       "<div>\n",
       "<style scoped>\n",
       "    .dataframe tbody tr th:only-of-type {\n",
       "        vertical-align: middle;\n",
       "    }\n",
       "\n",
       "    .dataframe tbody tr th {\n",
       "        vertical-align: top;\n",
       "    }\n",
       "\n",
       "    .dataframe thead th {\n",
       "        text-align: right;\n",
       "    }\n",
       "</style>\n",
       "<table border=\"1\" class=\"dataframe\">\n",
       "  <thead>\n",
       "    <tr style=\"text-align: right;\">\n",
       "      <th></th>\n",
       "      <th>userIDX</th>\n",
       "      <th>gender</th>\n",
       "      <th>age</th>\n",
       "      <th>occupation</th>\n",
       "      <th>movieIDX</th>\n",
       "      <th>year</th>\n",
       "      <th>genre_1</th>\n",
       "      <th>genre_2</th>\n",
       "      <th>genre_3</th>\n",
       "      <th>genre_4</th>\n",
       "      <th>...</th>\n",
       "      <th>genre_10</th>\n",
       "      <th>genre_11</th>\n",
       "      <th>genre_12</th>\n",
       "      <th>genre_13</th>\n",
       "      <th>genre_14</th>\n",
       "      <th>genre_15</th>\n",
       "      <th>genre_16</th>\n",
       "      <th>genre_17</th>\n",
       "      <th>genre_18</th>\n",
       "      <th>rating</th>\n",
       "    </tr>\n",
       "  </thead>\n",
       "  <tbody>\n",
       "    <tr>\n",
       "      <th>0</th>\n",
       "      <td>0</td>\n",
       "      <td>6040</td>\n",
       "      <td>6042</td>\n",
       "      <td>6059</td>\n",
       "      <td>7246</td>\n",
       "      <td>9965</td>\n",
       "      <td>9982</td>\n",
       "      <td>9993</td>\n",
       "      <td>9993</td>\n",
       "      <td>9993</td>\n",
       "      <td>...</td>\n",
       "      <td>9993</td>\n",
       "      <td>9993</td>\n",
       "      <td>9993</td>\n",
       "      <td>9993</td>\n",
       "      <td>9993</td>\n",
       "      <td>9993</td>\n",
       "      <td>9993</td>\n",
       "      <td>9993</td>\n",
       "      <td>9993</td>\n",
       "      <td>2</td>\n",
       "    </tr>\n",
       "    <tr>\n",
       "      <th>1</th>\n",
       "      <td>0</td>\n",
       "      <td>6040</td>\n",
       "      <td>6042</td>\n",
       "      <td>6059</td>\n",
       "      <td>6725</td>\n",
       "      <td>9972</td>\n",
       "      <td>9977</td>\n",
       "      <td>9978</td>\n",
       "      <td>9986</td>\n",
       "      <td>9993</td>\n",
       "      <td>...</td>\n",
       "      <td>9993</td>\n",
       "      <td>9993</td>\n",
       "      <td>9993</td>\n",
       "      <td>9993</td>\n",
       "      <td>9993</td>\n",
       "      <td>9993</td>\n",
       "      <td>9993</td>\n",
       "      <td>9993</td>\n",
       "      <td>9993</td>\n",
       "      <td>0</td>\n",
       "    </tr>\n",
       "    <tr>\n",
       "      <th>2</th>\n",
       "      <td>0</td>\n",
       "      <td>6040</td>\n",
       "      <td>6042</td>\n",
       "      <td>6059</td>\n",
       "      <td>6972</td>\n",
       "      <td>9963</td>\n",
       "      <td>9986</td>\n",
       "      <td>9988</td>\n",
       "      <td>9993</td>\n",
       "      <td>9993</td>\n",
       "      <td>...</td>\n",
       "      <td>9993</td>\n",
       "      <td>9993</td>\n",
       "      <td>9993</td>\n",
       "      <td>9993</td>\n",
       "      <td>9993</td>\n",
       "      <td>9993</td>\n",
       "      <td>9993</td>\n",
       "      <td>9993</td>\n",
       "      <td>9993</td>\n",
       "      <td>0</td>\n",
       "    </tr>\n",
       "    <tr>\n",
       "      <th>3</th>\n",
       "      <td>0</td>\n",
       "      <td>6040</td>\n",
       "      <td>6042</td>\n",
       "      <td>6059</td>\n",
       "      <td>9409</td>\n",
       "      <td>9974</td>\n",
       "      <td>9982</td>\n",
       "      <td>9993</td>\n",
       "      <td>9993</td>\n",
       "      <td>9993</td>\n",
       "      <td>...</td>\n",
       "      <td>9993</td>\n",
       "      <td>9993</td>\n",
       "      <td>9993</td>\n",
       "      <td>9993</td>\n",
       "      <td>9993</td>\n",
       "      <td>9993</td>\n",
       "      <td>9993</td>\n",
       "      <td>9993</td>\n",
       "      <td>9993</td>\n",
       "      <td>1</td>\n",
       "    </tr>\n",
       "    <tr>\n",
       "      <th>4</th>\n",
       "      <td>0</td>\n",
       "      <td>6040</td>\n",
       "      <td>6042</td>\n",
       "      <td>6059</td>\n",
       "      <td>8356</td>\n",
       "      <td>9973</td>\n",
       "      <td>9977</td>\n",
       "      <td>9978</td>\n",
       "      <td>9979</td>\n",
       "      <td>9993</td>\n",
       "      <td>...</td>\n",
       "      <td>9993</td>\n",
       "      <td>9993</td>\n",
       "      <td>9993</td>\n",
       "      <td>9993</td>\n",
       "      <td>9993</td>\n",
       "      <td>9993</td>\n",
       "      <td>9993</td>\n",
       "      <td>9993</td>\n",
       "      <td>9993</td>\n",
       "      <td>2</td>\n",
       "    </tr>\n",
       "    <tr>\n",
       "      <th>...</th>\n",
       "      <td>...</td>\n",
       "      <td>...</td>\n",
       "      <td>...</td>\n",
       "      <td>...</td>\n",
       "      <td>...</td>\n",
       "      <td>...</td>\n",
       "      <td>...</td>\n",
       "      <td>...</td>\n",
       "      <td>...</td>\n",
       "      <td>...</td>\n",
       "      <td>...</td>\n",
       "      <td>...</td>\n",
       "      <td>...</td>\n",
       "      <td>...</td>\n",
       "      <td>...</td>\n",
       "      <td>...</td>\n",
       "      <td>...</td>\n",
       "      <td>...</td>\n",
       "      <td>...</td>\n",
       "      <td>...</td>\n",
       "      <td>...</td>\n",
       "    </tr>\n",
       "    <tr>\n",
       "      <th>1000204</th>\n",
       "      <td>6039</td>\n",
       "      <td>6041</td>\n",
       "      <td>6044</td>\n",
       "      <td>6055</td>\n",
       "      <td>7145</td>\n",
       "      <td>9969</td>\n",
       "      <td>9979</td>\n",
       "      <td>9993</td>\n",
       "      <td>9993</td>\n",
       "      <td>9993</td>\n",
       "      <td>...</td>\n",
       "      <td>9993</td>\n",
       "      <td>9993</td>\n",
       "      <td>9993</td>\n",
       "      <td>9993</td>\n",
       "      <td>9993</td>\n",
       "      <td>9993</td>\n",
       "      <td>9993</td>\n",
       "      <td>9993</td>\n",
       "      <td>9993</td>\n",
       "      <td>-2</td>\n",
       "    </tr>\n",
       "    <tr>\n",
       "      <th>1000205</th>\n",
       "      <td>6039</td>\n",
       "      <td>6041</td>\n",
       "      <td>6044</td>\n",
       "      <td>6055</td>\n",
       "      <td>7148</td>\n",
       "      <td>9970</td>\n",
       "      <td>9982</td>\n",
       "      <td>9988</td>\n",
       "      <td>9991</td>\n",
       "      <td>9993</td>\n",
       "      <td>...</td>\n",
       "      <td>9993</td>\n",
       "      <td>9993</td>\n",
       "      <td>9993</td>\n",
       "      <td>9993</td>\n",
       "      <td>9993</td>\n",
       "      <td>9993</td>\n",
       "      <td>9993</td>\n",
       "      <td>9993</td>\n",
       "      <td>9993</td>\n",
       "      <td>2</td>\n",
       "    </tr>\n",
       "    <tr>\n",
       "      <th>1000206</th>\n",
       "      <td>6039</td>\n",
       "      <td>6041</td>\n",
       "      <td>6044</td>\n",
       "      <td>6055</td>\n",
       "      <td>6628</td>\n",
       "      <td>9972</td>\n",
       "      <td>9979</td>\n",
       "      <td>9982</td>\n",
       "      <td>9993</td>\n",
       "      <td>9993</td>\n",
       "      <td>...</td>\n",
       "      <td>9993</td>\n",
       "      <td>9993</td>\n",
       "      <td>9993</td>\n",
       "      <td>9993</td>\n",
       "      <td>9993</td>\n",
       "      <td>9993</td>\n",
       "      <td>9993</td>\n",
       "      <td>9993</td>\n",
       "      <td>9993</td>\n",
       "      <td>2</td>\n",
       "    </tr>\n",
       "    <tr>\n",
       "      <th>1000207</th>\n",
       "      <td>6039</td>\n",
       "      <td>6041</td>\n",
       "      <td>6044</td>\n",
       "      <td>6055</td>\n",
       "      <td>7150</td>\n",
       "      <td>9967</td>\n",
       "      <td>9982</td>\n",
       "      <td>9993</td>\n",
       "      <td>9993</td>\n",
       "      <td>9993</td>\n",
       "      <td>...</td>\n",
       "      <td>9993</td>\n",
       "      <td>9993</td>\n",
       "      <td>9993</td>\n",
       "      <td>9993</td>\n",
       "      <td>9993</td>\n",
       "      <td>9993</td>\n",
       "      <td>9993</td>\n",
       "      <td>9993</td>\n",
       "      <td>9993</td>\n",
       "      <td>1</td>\n",
       "    </tr>\n",
       "    <tr>\n",
       "      <th>1000208</th>\n",
       "      <td>6039</td>\n",
       "      <td>6041</td>\n",
       "      <td>6044</td>\n",
       "      <td>6055</td>\n",
       "      <td>7151</td>\n",
       "      <td>9967</td>\n",
       "      <td>9978</td>\n",
       "      <td>9982</td>\n",
       "      <td>9983</td>\n",
       "      <td>9989</td>\n",
       "      <td>...</td>\n",
       "      <td>9993</td>\n",
       "      <td>9993</td>\n",
       "      <td>9993</td>\n",
       "      <td>9993</td>\n",
       "      <td>9993</td>\n",
       "      <td>9993</td>\n",
       "      <td>9993</td>\n",
       "      <td>9993</td>\n",
       "      <td>9993</td>\n",
       "      <td>1</td>\n",
       "    </tr>\n",
       "  </tbody>\n",
       "</table>\n",
       "<p>1000209 rows × 25 columns</p>\n",
       "</div>"
      ],
      "text/plain": [
       "         userIDX  gender   age  occupation  movieIDX  year  genre_1  genre_2  \\\n",
       "0              0    6040  6042        6059      7246  9965     9982     9993   \n",
       "1              0    6040  6042        6059      6725  9972     9977     9978   \n",
       "2              0    6040  6042        6059      6972  9963     9986     9988   \n",
       "3              0    6040  6042        6059      9409  9974     9982     9993   \n",
       "4              0    6040  6042        6059      8356  9973     9977     9978   \n",
       "...          ...     ...   ...         ...       ...   ...      ...      ...   \n",
       "1000204     6039    6041  6044        6055      7145  9969     9979     9993   \n",
       "1000205     6039    6041  6044        6055      7148  9970     9982     9988   \n",
       "1000206     6039    6041  6044        6055      6628  9972     9979     9982   \n",
       "1000207     6039    6041  6044        6055      7150  9967     9982     9993   \n",
       "1000208     6039    6041  6044        6055      7151  9967     9978     9982   \n",
       "\n",
       "         genre_3  genre_4  ...  genre_10  genre_11  genre_12  genre_13  \\\n",
       "0           9993     9993  ...      9993      9993      9993      9993   \n",
       "1           9986     9993  ...      9993      9993      9993      9993   \n",
       "2           9993     9993  ...      9993      9993      9993      9993   \n",
       "3           9993     9993  ...      9993      9993      9993      9993   \n",
       "4           9979     9993  ...      9993      9993      9993      9993   \n",
       "...          ...      ...  ...       ...       ...       ...       ...   \n",
       "1000204     9993     9993  ...      9993      9993      9993      9993   \n",
       "1000205     9991     9993  ...      9993      9993      9993      9993   \n",
       "1000206     9993     9993  ...      9993      9993      9993      9993   \n",
       "1000207     9993     9993  ...      9993      9993      9993      9993   \n",
       "1000208     9983     9989  ...      9993      9993      9993      9993   \n",
       "\n",
       "         genre_14  genre_15  genre_16  genre_17  genre_18  rating  \n",
       "0            9993      9993      9993      9993      9993       2  \n",
       "1            9993      9993      9993      9993      9993       0  \n",
       "2            9993      9993      9993      9993      9993       0  \n",
       "3            9993      9993      9993      9993      9993       1  \n",
       "4            9993      9993      9993      9993      9993       2  \n",
       "...           ...       ...       ...       ...       ...     ...  \n",
       "1000204      9993      9993      9993      9993      9993      -2  \n",
       "1000205      9993      9993      9993      9993      9993       2  \n",
       "1000206      9993      9993      9993      9993      9993       2  \n",
       "1000207      9993      9993      9993      9993      9993       1  \n",
       "1000208      9993      9993      9993      9993      9993       1  \n",
       "\n",
       "[1000209 rows x 25 columns]"
      ]
     },
     "execution_count": 14,
     "metadata": {},
     "output_type": "execute_result"
    }
   ],
   "source": [
    "df"
   ]
  },
  {
   "cell_type": "code",
   "execution_count": 15,
   "metadata": {},
   "outputs": [],
   "source": [
    "data_train, data_test = train_test_split(df.values, test_size=0.12, random_state=69)\n",
    "del df"
   ]
  },
  {
   "cell_type": "code",
   "execution_count": 16,
   "metadata": {},
   "outputs": [],
   "source": [
    "class MovieDataset(Dataset):\n",
    "\n",
    "    def __init__(self, data, transform=None):\n",
    "        self.data = data\n",
    "\n",
    "    def __len__(self):\n",
    "        return len(self.data)\n",
    "\n",
    "    def __getitem__(self, idx):\n",
    "\n",
    "        one_indices_ = self.data[idx, :-1]\n",
    "        label_ = self.data[idx, -1]\n",
    "\n",
    "        one_indices_ = torch.from_numpy(one_indices_).type(torch.int32)\n",
    "        label_ = torch.tensor(label_, dtype=torch.float32)\n",
    "        \n",
    "        return one_indices_, label_"
   ]
  },
  {
   "cell_type": "code",
   "execution_count": 17,
   "metadata": {},
   "outputs": [],
   "source": [
    "# ctr_dataset = MovieDataset(data=data_train)\n",
    "# dataloader = DataLoader(ctr_dataset, batch_size=8, shuffle=True, num_workers=0)\n",
    "# for sample_batched in dataloader:\n",
    "#     break"
   ]
  },
  {
   "cell_type": "code",
   "execution_count": 18,
   "metadata": {},
   "outputs": [],
   "source": [
    "class FM(nn.Module):\n",
    "    def __init__(self, size_vector_onehot, num_og_feature, num_factors):\n",
    "        \"\"\"\n",
    "        Deep Factorization Machine model\n",
    "\n",
    "        Args:\n",
    "            size_vector_onehot (int): size vector onehot\n",
    "            num_og_feature (int): num original features\n",
    "            num_factors (int): size of latent vector\n",
    "        \"\"\"\n",
    "\n",
    "        super(FM, self).__init__()\n",
    "        self.size_vector_onehot = size_vector_onehot\n",
    "        self.num_factors = num_factors\n",
    "        self.embedding = nn.Embedding(size_vector_onehot + 1 , num_factors, padding_idx=size_vector_onehot)\n",
    "        self.linear_layer = nn.Embedding(size_vector_onehot + 1, 1, padding_idx=size_vector_onehot)\n",
    "        self.bias = nn.Parameter(torch.randn(1), requires_grad=True)\n",
    "        # self.scaled_down = nn.Parameter(torch.tensor(0.025), requires_grad=False)\n",
    "\n",
    "    def forward(self, x):\n",
    "        \"\"\"\n",
    "        Only works for data in batch format\n",
    "        Args:\n",
    "            x (array like): (batchsize, one indices)\n",
    "\n",
    "        Returns:\n",
    "              feature (torch.Tensor) : (batch_size, num_factors)\n",
    "        \"\"\"\n",
    "\n",
    "        embedded_xs = self.embedding(x)\n",
    "\n",
    "        # ---------------FM--------------------\n",
    "        square_of_sum = embedded_xs.sum(1).pow(2).sum(1)\n",
    "        sum_of_square = embedded_xs.pow(2).sum(1).sum(1)\n",
    "\n",
    "        degree2_part =  0.5 * (square_of_sum - sum_of_square)\n",
    "        degree2_part = torch.unsqueeze(degree2_part, -1)\n",
    "\n",
    "        linear_part = self.linear_layer(x).sum(1) + self.bias\n",
    "\n",
    "        out = linear_part + degree2_part\n",
    "\n",
    "        out = out[:, 0]\n",
    "        out = torch.clamp(out, min=-2.1, max=2.1)\n",
    "\n",
    "        return out\n"
   ]
  },
  {
   "cell_type": "code",
   "execution_count": 19,
   "metadata": {},
   "outputs": [],
   "source": [
    "batch_size = 768\n",
    "dataset_train = MovieDataset(data=data_train)\n",
    "dataset_test = MovieDataset(data=data_test)\n",
    "loaders = {'train': DataLoader(dataset_train, batch_size, num_workers=10, shuffle=True),\n",
    "          'val': DataLoader(dataset_test, batch_size, num_workers=10, shuffle=False)}"
   ]
  },
  {
   "cell_type": "code",
   "execution_count": 20,
   "metadata": {},
   "outputs": [],
   "source": [
    "num_factors=4\n",
    "model = FM(size_vector_onehot=size_vector_onehot_total, num_og_feature=data_train.shape[1]-1, num_factors=num_factors)\n",
    "model = model.to(DEVICE)"
   ]
  },
  {
   "cell_type": "code",
   "execution_count": 21,
   "metadata": {},
   "outputs": [],
   "source": [
    "def lr_base_on_epoch(epoch:int):\n",
    "    if epoch <=10:\n",
    "        gamma = 0.011\n",
    "    elif epoch <=15:\n",
    "        gamma = 0.005\n",
    "    elif epoch <=20:\n",
    "        gamma = 0.0025\n",
    "    elif epoch <=30:\n",
    "        gamma = 1e-3\n",
    "    elif epoch <=40:\n",
    "        gamma = 7e-4\n",
    "    elif epoch <=55:\n",
    "        gamma = 5e-4\n",
    "    elif epoch <=70:\n",
    "        gamma = 1e-4\n",
    "    else:\n",
    "        gamma = 2e-5\n",
    "    return gamma\n",
    "\n",
    "criterion = torch.nn.MSELoss()\n",
    "optimizer = torch.optim.AdamW(model.parameters(), lr=1)\n",
    "lambda_function = lambda epoch: lr_base_on_epoch(epoch=epoch)\n",
    "scheduler = torch.optim.lr_scheduler.LambdaLR(optimizer, lr_lambda=lambda_function)\n",
    "metric = R2Score().to(DEVICE)"
   ]
  },
  {
   "cell_type": "code",
   "execution_count": null,
   "metadata": {},
   "outputs": [],
   "source": [
    "### FINE TUNEEEEEEEEEEEEEEEEE\n",
    "def lr_base_on_epoch(epoch:int):\n",
    "    return 4e-4\n",
    "\n",
    "criterion = torch.nn.MSELoss()\n",
    "optimizer = torch.optim.AdamW(model.parameters(), lr=1)\n",
    "lambda_function = lambda epoch: lr_base_on_epoch(epoch=epoch)\n",
    "scheduler = torch.optim.lr_scheduler.LambdaLR(optimizer, lr_lambda=lambda_function)\n",
    "metric = R2Score().to(DEVICE)"
   ]
  },
  {
   "cell_type": "code",
   "execution_count": 22,
   "metadata": {},
   "outputs": [],
   "source": [
    "best_val_loss = 9999"
   ]
  },
  {
   "cell_type": "code",
   "execution_count": 1,
   "metadata": {},
   "outputs": [],
   "source": [
    "logs = []\n",
    "first_epoch = True\n",
    "for epoch in range(81):\n",
    "    current_log = {'epoch': epoch, 'loss_train': 0., 'loss_val': 0., 'val_R2_score':0., 'lr': optimizer.param_groups[0][\"lr\"]}\n",
    "    start_time = time.time()\n",
    "    for phase in ['train', 'val']:\n",
    "        if phase == 'train':\n",
    "            model.train()\n",
    "        else:\n",
    "            model.eval()\n",
    "\n",
    "        for sample_batched in loaders[phase]:\n",
    "            optimizer.zero_grad()\n",
    "\n",
    "            one_indices, label = sample_batched\n",
    "            one_indices = one_indices.to(DEVICE)\n",
    "            label = label.to(DEVICE)\n",
    "            pred = model(one_indices)#.to(DEVICE)\n",
    "            loss = criterion(pred, label)\n",
    "\n",
    "            current_log[f\"loss_{phase}\"] += loss.item() * batch_size\n",
    "            with torch.set_grad_enabled(phase == 'train'):\n",
    "                if phase == 'train':\n",
    "                    loss.backward()\n",
    "                    optimizer.step()\n",
    "            if phase == 'val':\n",
    "                with torch.no_grad():\n",
    "                    metric.update(pred, label)\n",
    "        current_log[f\"loss_{phase}\"] /= len(loaders[phase].dataset)\n",
    "    current_log['val_R2_score'] = metric.compute().item()\n",
    "    scheduler.step()\n",
    "\n",
    "    if current_log['loss_val'] < best_val_loss:\n",
    "        torch.save(model.state_dict(), 'FM_regr.pth')\n",
    "        best_val_loss = current_log['loss_val']\n",
    "    else:\n",
    "        if first_epoch==False:\n",
    "            if epoch < 15:\n",
    "                if (current_log['loss_val'] - best_val_loss) > 1:\n",
    "                    model.load_state_dict(torch.load('FM_regr.pth'))\n",
    "            elif epoch < 25:\n",
    "                if (current_log['loss_val'] - best_val_loss) > 0.05:\n",
    "                    model.load_state_dict(torch.load('FM_regr.pth'))\n",
    "            else:\n",
    "                if (current_log['loss_val'] - best_val_loss) > 0.011:\n",
    "                    model.load_state_dict(torch.load('FM_regr.pth'))\n",
    "    \n",
    "\n",
    "    print(f'Epoch {epoch:3d}   train loss: {current_log[\"loss_train\"]:.4f}  -  val loss: {current_log[\"loss_val\"]:.4f}  -  val R2_score: {current_log[\"val_R2_score\"]:.4f}  -  lr: {optimizer.param_groups[0][\"lr\"]}  -  time: {(time.time()-start_time):6f}')\n",
    "    logs.append(current_log)\n",
    "    first_epoch = False\n",
    "pickle.dump(logs, open(f'logs_FM{num_factors}_Adam_regr_{str(datetime.datetime.now())}.pkl', 'wb'))"
   ]
  },
  {
   "cell_type": "code",
   "execution_count": null,
   "metadata": {},
   "outputs": [],
   "source": [
    "model.load_state_dict(torch.load('FM_regr.pth'))"
   ]
  },
  {
   "cell_type": "code",
   "execution_count": 44,
   "metadata": {},
   "outputs": [],
   "source": [
    "list_pred = []\n",
    "with torch.no_grad():\n",
    "    for sample_batched in loaders['val']:\n",
    "        one_indices, label = sample_batched\n",
    "        one_indices = one_indices.to(DEVICE)\n",
    "        pred = model(one_indices).detach().cpu().numpy().tolist()\n",
    "        list_pred.extend(pred)"
   ]
  },
  {
   "cell_type": "code",
   "execution_count": 38,
   "metadata": {},
   "outputs": [],
   "source": [
    "import matplotlib.pyplot as plt\n",
    "import seaborn as sns"
   ]
  },
  {
   "cell_type": "code",
   "execution_count": 48,
   "metadata": {},
   "outputs": [],
   "source": [
    "loss_trains = np.asarray([logs[i]['loss_train'] for i in range(len(logs))])\n",
    "loss_vals = np.asarray([logs[i]['loss_val'] for i in range(len(logs))])\n",
    "val_accs = np.asarray([logs[i]['val_R2_score'] for i in range(len(logs))])\n",
    "lrs = np.asarray([logs[i]['lr'] for i in range(len(logs))])"
   ]
  },
  {
   "cell_type": "code",
   "execution_count": 49,
   "metadata": {},
   "outputs": [
    {
     "data": {
      "text/plain": [
       "0.7742017734180462"
      ]
     },
     "execution_count": 49,
     "metadata": {},
     "output_type": "execute_result"
    }
   ],
   "source": [
    "min(loss_vals)"
   ]
  },
  {
   "cell_type": "code",
   "execution_count": 50,
   "metadata": {},
   "outputs": [
    {
     "data": {
      "text/plain": [
       "<matplotlib.legend.Legend at 0x7f9d568c0bb0>"
      ]
     },
     "execution_count": 50,
     "metadata": {},
     "output_type": "execute_result"
    },
    {
     "data": {
      "image/png": "[encoded data removed]",
      "text/plain": [
       "<Figure size 640x480 with 1 Axes>"
      ]
     },
     "metadata": {},
     "output_type": "display_data"
    }
   ],
   "source": [
    "plt.plot(loss_trains, label='loss_train')\n",
    "plt.plot(loss_vals, label='loss_val')\n",
    "\n",
    "plt.legend()"
   ]
  },
  {
   "cell_type": "code",
   "execution_count": 52,
   "metadata": {},
   "outputs": [
    {
     "data": {
      "text/plain": [
       "<matplotlib.legend.Legend at 0x7f9d56825a30>"
      ]
     },
     "execution_count": 52,
     "metadata": {},
     "output_type": "execute_result"
    },
    {
     "data": {
      "image/png": "[encoded data removed]",
      "text/plain": [
       "<Figure size 640x480 with 1 Axes>"
      ]
     },
     "metadata": {},
     "output_type": "display_data"
    }
   ],
   "source": [
    "plt.plot(val_accs, label='val_R2')\n",
    "plt.legend()"
   ]
  },
  {
   "cell_type": "code",
   "execution_count": 53,
   "metadata": {},
   "outputs": [
    {
     "data": {
      "text/plain": [
       "0.29214298725128174"
      ]
     },
     "execution_count": 53,
     "metadata": {},
     "output_type": "execute_result"
    }
   ],
   "source": [
    "max(val_accs)"
   ]
  },
  {
   "cell_type": "code",
   "execution_count": null,
   "metadata": {},
   "outputs": [
    {
     "data": {
      "text/plain": [
       "<matplotlib.legend.Legend at 0x7f693f6cb940>"
      ]
     },
     "execution_count": 34,
     "metadata": {},
     "output_type": "execute_result"
    },
    {
     "data": {
      "image/png": "[encoded data removed]",
      "text/plain": [
       "<Figure size 640x480 with 1 Axes>"
      ]
     },
     "metadata": {},
     "output_type": "display_data"
    }
   ],
   "source": [
    "plt.plot([logs[i]['loss_val'] for i in range(len(logs))], label='loss_val')\n",
    "plt.legend()"
   ]
  },
  {
   "cell_type": "code",
   "execution_count": null,
   "metadata": {},
   "outputs": [
    {
     "data": {
      "text/plain": [
       "<matplotlib.legend.Legend at 0x7f314c1cc070>"
      ]
     },
     "execution_count": 31,
     "metadata": {},
     "output_type": "execute_result"
    },
    {
     "data": {
      "image/png": "[encoded data removed]",
      "text/plain": [
       "<Figure size 640x480 with 1 Axes>"
      ]
     },
     "metadata": {},
     "output_type": "display_data"
    }
   ],
   "source": [
    "plt.plot([logs[i]['val_acc'] for i in range(len(logs))], label='val_acc')\n",
    "# plt.plot([logs[i]['lr'] for i in range(len(logs))], label='lr')\n",
    "plt.legend()"
   ]
  },
  {
   "cell_type": "code",
   "execution_count": null,
   "metadata": {},
   "outputs": [],
   "source": []
  },
  {
   "cell_type": "code",
   "execution_count": null,
   "metadata": {},
   "outputs": [],
   "source": [
    "# Intel(R) Core(TM) i9-10900X CPU @ 3.70GHz\n",
    "# NVIDIA GeForce RTX 3090"
   ]
  }
 ],
 "metadata": {
  "kernelspec": {
   "display_name": "py39",
   "language": "python",
   "name": "python3"
  },
  "language_info": {
   "codemirror_mode": {
    "name": "ipython",
    "version": 3
   },
   "file_extension": ".py",
   "mimetype": "text/x-python",
   "name": "python",
   "nbconvert_exporter": "python",
   "pygments_lexer": "ipython3",
   "version": "3.9.16"
  },
  "orig_nbformat": 4
 },
 "nbformat": 4,
 "nbformat_minor": 2
}

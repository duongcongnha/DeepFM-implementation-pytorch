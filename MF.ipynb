{
 "cells": [
  {
   "cell_type": "code",
   "execution_count": 1,
   "metadata": {},
   "outputs": [],
   "source": [
    "import os\n",
    "os.environ[\"CUDA_VISIBLE_DEVICES\"]=\"0\""
   ]
  },
  {
   "cell_type": "code",
   "execution_count": 2,
   "metadata": {},
   "outputs": [],
   "source": [
    "import torch\n",
    "import numpy as np\n",
    "import pandas as pd\n",
    "import torch.nn as nn\n",
    "from sklearn.model_selection import train_test_split\n",
    "from tqdm.auto import tqdm\n",
    "import time\n",
    "import datetime\n",
    "import pickle\n",
    "from torch.utils.data import Dataset, DataLoader\n",
    "import torch.nn.functional as F\n",
    "from torcheval.metrics import BinaryAUROC\n",
    "\n",
    "DEVICE = torch.device(\"cuda\" if torch.cuda.is_available() else \"cpu\")"
   ]
  },
  {
   "cell_type": "code",
   "execution_count": 3,
   "metadata": {},
   "outputs": [],
   "source": [
    "df = pd.read_pickle('/home/rouse_ai/nha/KLTN/ratings.pickle')"
   ]
  },
  {
   "cell_type": "code",
   "execution_count": 4,
   "metadata": {},
   "outputs": [],
   "source": [
    "df['rating'] = df['rating'].map(lambda x: 0 if x<4 else 1)\n",
    "# df['rating'] = df['rating'] - 3"
   ]
  },
  {
   "cell_type": "code",
   "execution_count": 5,
   "metadata": {},
   "outputs": [
    {
     "data": {
      "text/html": [
       "<div>\n",
       "<style scoped>\n",
       "    .dataframe tbody tr th:only-of-type {\n",
       "        vertical-align: middle;\n",
       "    }\n",
       "\n",
       "    .dataframe tbody tr th {\n",
       "        vertical-align: top;\n",
       "    }\n",
       "\n",
       "    .dataframe thead th {\n",
       "        text-align: right;\n",
       "    }\n",
       "</style>\n",
       "<table border=\"1\" class=\"dataframe\">\n",
       "  <thead>\n",
       "    <tr style=\"text-align: right;\">\n",
       "      <th></th>\n",
       "      <th>userIDX</th>\n",
       "      <th>movieIDX</th>\n",
       "      <th>rating</th>\n",
       "    </tr>\n",
       "  </thead>\n",
       "  <tbody>\n",
       "    <tr>\n",
       "      <th>0</th>\n",
       "      <td>0</td>\n",
       "      <td>1176</td>\n",
       "      <td>1</td>\n",
       "    </tr>\n",
       "    <tr>\n",
       "      <th>1</th>\n",
       "      <td>0</td>\n",
       "      <td>655</td>\n",
       "      <td>0</td>\n",
       "    </tr>\n",
       "    <tr>\n",
       "      <th>2</th>\n",
       "      <td>0</td>\n",
       "      <td>902</td>\n",
       "      <td>0</td>\n",
       "    </tr>\n",
       "    <tr>\n",
       "      <th>3</th>\n",
       "      <td>0</td>\n",
       "      <td>3339</td>\n",
       "      <td>1</td>\n",
       "    </tr>\n",
       "    <tr>\n",
       "      <th>4</th>\n",
       "      <td>0</td>\n",
       "      <td>2286</td>\n",
       "      <td>1</td>\n",
       "    </tr>\n",
       "    <tr>\n",
       "      <th>...</th>\n",
       "      <td>...</td>\n",
       "      <td>...</td>\n",
       "      <td>...</td>\n",
       "    </tr>\n",
       "    <tr>\n",
       "      <th>1000204</th>\n",
       "      <td>6039</td>\n",
       "      <td>1075</td>\n",
       "      <td>0</td>\n",
       "    </tr>\n",
       "    <tr>\n",
       "      <th>1000205</th>\n",
       "      <td>6039</td>\n",
       "      <td>1078</td>\n",
       "      <td>1</td>\n",
       "    </tr>\n",
       "    <tr>\n",
       "      <th>1000206</th>\n",
       "      <td>6039</td>\n",
       "      <td>558</td>\n",
       "      <td>1</td>\n",
       "    </tr>\n",
       "    <tr>\n",
       "      <th>1000207</th>\n",
       "      <td>6039</td>\n",
       "      <td>1080</td>\n",
       "      <td>1</td>\n",
       "    </tr>\n",
       "    <tr>\n",
       "      <th>1000208</th>\n",
       "      <td>6039</td>\n",
       "      <td>1081</td>\n",
       "      <td>1</td>\n",
       "    </tr>\n",
       "  </tbody>\n",
       "</table>\n",
       "<p>1000209 rows × 3 columns</p>\n",
       "</div>"
      ],
      "text/plain": [
       "         userIDX  movieIDX  rating\n",
       "0              0      1176       1\n",
       "1              0       655       0\n",
       "2              0       902       0\n",
       "3              0      3339       1\n",
       "4              0      2286       1\n",
       "...          ...       ...     ...\n",
       "1000204     6039      1075       0\n",
       "1000205     6039      1078       1\n",
       "1000206     6039       558       1\n",
       "1000207     6039      1080       1\n",
       "1000208     6039      1081       1\n",
       "\n",
       "[1000209 rows x 3 columns]"
      ]
     },
     "execution_count": 5,
     "metadata": {},
     "output_type": "execute_result"
    }
   ],
   "source": [
    "df"
   ]
  },
  {
   "cell_type": "code",
   "execution_count": 6,
   "metadata": {},
   "outputs": [],
   "source": [
    "num_users = df['userIDX'].max() + 1\n",
    "num_movies = df['movieIDX'].max() + 1"
   ]
  },
  {
   "cell_type": "code",
   "execution_count": 7,
   "metadata": {},
   "outputs": [
    {
     "data": {
      "text/plain": [
       "4.264679797998748"
      ]
     },
     "execution_count": 7,
     "metadata": {},
     "output_type": "execute_result"
    }
   ],
   "source": [
    "density = len(df) / (num_users * num_movies) *100\n",
    "density"
   ]
  },
  {
   "cell_type": "code",
   "execution_count": 8,
   "metadata": {},
   "outputs": [],
   "source": [
    "data_train, data_test = train_test_split(df.values, test_size=0.12, random_state=69)\n",
    "del df"
   ]
  },
  {
   "cell_type": "code",
   "execution_count": 9,
   "metadata": {},
   "outputs": [],
   "source": [
    "class MovieDataset(Dataset):\n",
    "\n",
    "    def __init__(self, data, transform=None):\n",
    "        self.ratings = data\n",
    "\n",
    "    def __len__(self):\n",
    "        return len(self.ratings)\n",
    "\n",
    "    def __getitem__(self, idx):\n",
    "\n",
    "        user_id_ = self.ratings[idx, 0]\n",
    "        movie_id_ = self.ratings[idx, 1]\n",
    "        label_ = self.ratings[idx, -1]\n",
    "\n",
    "        user_id_ = torch.tensor(user_id_, dtype=torch.int32)\n",
    "        movie_id_ = torch.tensor(movie_id_, dtype=torch.int32)\n",
    "        label_ = torch.tensor(label_, dtype=torch.float32)\n",
    "\n",
    "        # sample = {'user_idx':user_id_, \"movie_idx\": movie_id_, 'label':label_}\n",
    "        \n",
    "        return user_id_, movie_id_, label_"
   ]
  },
  {
   "cell_type": "code",
   "execution_count": 10,
   "metadata": {},
   "outputs": [],
   "source": [
    "class ProbToBinary(nn.Module):\n",
    "    def __init__(self, threshold=0.5):\n",
    "        super(ProbToBinary, self).__init__()\n",
    "        self.threshold = threshold\n",
    "        self.sigmoid = nn.Sigmoid()\n",
    "    def forward(self, x):\n",
    "        x = self.sigmoid(x)\n",
    "        x[torch.where(x < self.threshold)[0]] = 0\n",
    "        x[torch.where(x > self.threshold)[0]] = 1\n",
    "        return x"
   ]
  },
  {
   "cell_type": "code",
   "execution_count": 11,
   "metadata": {},
   "outputs": [],
   "source": [
    "class MatrixFactorization(nn.Module):\n",
    "    def __init__(self, num_users, num_items, num_factors):\n",
    "        \"\"\"\n",
    "        Deep Factorization Machine model\n",
    "\n",
    "        Args:\n",
    "            size_vector_onehot (int): size vector onehot\n",
    "            num_og_feature (int): num original features\n",
    "            num_factors (int): size of latent vector\n",
    "        \"\"\"\n",
    "\n",
    "        super(MatrixFactorization, self).__init__()\n",
    "\n",
    "        self.user_embedding = nn.Embedding(num_users, num_factors)\n",
    "        self.item_embedding = nn.Embedding(num_items, num_factors)\n",
    "        self.user_bias_embedding = nn.Embedding(num_users, 1)\n",
    "        self.item_bias_embedding = nn.Embedding(num_items, 1)\n",
    "        self.global_bias = nn.Parameter(torch.randn(1))\n",
    "\n",
    "        self.flatten = nn.Flatten(start_dim=1, end_dim=- 1)\n",
    "\n",
    "\n",
    "    def forward(self, user_indices, item_indices):\n",
    "        \"\"\"\n",
    "        Args:\n",
    "            user_indices (array like): batch of user indexes\n",
    "            item_indices (array like): batch of item indexes\n",
    "\n",
    "        Returns:\n",
    "              feature (torch.Tensor) : (batch_size, num_factors)\n",
    "        \"\"\"\n",
    "        user_embeddings = self.user_embedding(user_indices)\n",
    "        item_embeddings = self.item_embedding(item_indices)\n",
    "\n",
    "        user_bias = self.user_bias_embedding(user_indices)[:,0]\n",
    "        item_bias = self.item_bias_embedding(item_indices)[:,0]\n",
    "\n",
    "        preds = torch.diag(torch.matmul(user_embeddings, torch.transpose(item_embeddings, 0, 1)))\n",
    "        preds = preds + user_bias + item_bias + self.global_bias\n",
    "        # preds = torch.clip(preds, min=-2, max=2)\n",
    "\n",
    "        return preds\n"
   ]
  },
  {
   "cell_type": "code",
   "execution_count": 12,
   "metadata": {},
   "outputs": [],
   "source": [
    "batch_size = 768\n",
    "dataset_train = MovieDataset(data=data_train)\n",
    "dataset_test = MovieDataset(data=data_test)\n",
    "loaders = {'train': DataLoader(dataset_train, batch_size, num_workers=10, shuffle=True),\n",
    "          'val': DataLoader(dataset_test, batch_size, num_workers=10, shuffle=False)}"
   ]
  },
  {
   "cell_type": "code",
   "execution_count": 13,
   "metadata": {},
   "outputs": [],
   "source": [
    "num_factors=20\n",
    "model = MatrixFactorization(num_users=num_users, num_items=num_movies, num_factors=num_factors)\n",
    "model = model.to(DEVICE)\n",
    "ptb = ProbToBinary()"
   ]
  },
  {
   "cell_type": "code",
   "execution_count": 14,
   "metadata": {},
   "outputs": [],
   "source": [
    "def lr_base_on_epoch(epoch:int):\n",
    "    if epoch <=5:\n",
    "        gamma = 0.11\n",
    "    elif epoch <=10:\n",
    "        gamma = 0.01\n",
    "    elif epoch <=20:\n",
    "        gamma = 1e-3\n",
    "    elif epoch <=30:\n",
    "        gamma = 5e-4\n",
    "    elif epoch <=40:\n",
    "        gamma = 1e-4\n",
    "    else:\n",
    "        gamma = 2e-5\n",
    "    return gamma\n",
    "\n",
    "criterion = torch.nn.BCEWithLogitsLoss()\n",
    "optimizer = torch.optim.Adam(model.parameters(), lr=1)\n",
    "lambda_function = lambda epoch: lr_base_on_epoch(epoch=epoch)\n",
    "scheduler = torch.optim.lr_scheduler.LambdaLR(optimizer, lr_lambda=lambda_function)\n",
    "metric = BinaryAUROC().to(DEVICE)"
   ]
  },
  {
   "cell_type": "code",
   "execution_count": 15,
   "metadata": {},
   "outputs": [],
   "source": [
    "# model.load_state_dict(torch.load('MF.pth'))\n",
    "# best_val_score = pickle.load(open('best_val_score.pkl', 'rb'))\n",
    "best_val_score = 0."
   ]
  },
  {
   "cell_type": "code",
   "execution_count": 16,
   "metadata": {},
   "outputs": [
    {
     "name": "stdout",
     "output_type": "stream",
     "text": [
      "Epoch 0   train loss: 1.2723  -  val loss: 1.4055  -  val accuracy: 0.6503  -  val ROC AUC: 0.6886  -  lr: 0.11  -  time: 6.135725498199463\n",
      "Epoch 1   train loss: 1.4095  -  val loss: 1.4703  -  val accuracy: 0.6512  -  val ROC AUC: 0.6908  -  lr: 0.11  -  time: 6.353124618530273\n",
      "Epoch 2   train loss: 1.4108  -  val loss: 1.4778  -  val accuracy: 0.6556  -  val ROC AUC: 0.6924  -  lr: 0.11  -  time: 6.868669271469116\n",
      "Epoch 3   train loss: 1.4068  -  val loss: 1.5057  -  val accuracy: 0.6568  -  val ROC AUC: 0.6933  -  lr: 0.11  -  time: 6.035053014755249\n",
      "Epoch 4   train loss: 1.4230  -  val loss: 1.5294  -  val accuracy: 0.6550  -  val ROC AUC: 0.6936  -  lr: 0.11  -  time: 5.467753171920776\n",
      "Epoch 5   train loss: 1.4290  -  val loss: 1.5258  -  val accuracy: 0.6618  -  val ROC AUC: 0.6943  -  lr: 0.01  -  time: 5.722614049911499\n",
      "Epoch 6   train loss: 0.9532  -  val loss: 0.9676  -  val accuracy: 0.7032  -  val ROC AUC: 0.7002  -  lr: 0.01  -  time: 5.287935256958008\n",
      "Epoch 7   train loss: 0.6367  -  val loss: 0.8557  -  val accuracy: 0.7072  -  val ROC AUC: 0.7046  -  lr: 0.01  -  time: 5.81861424446106\n",
      "Epoch 8   train loss: 0.5502  -  val loss: 0.8084  -  val accuracy: 0.7095  -  val ROC AUC: 0.7082  -  lr: 0.01  -  time: 6.764276742935181\n",
      "Epoch 9   train loss: 0.5113  -  val loss: 0.7858  -  val accuracy: 0.7104  -  val ROC AUC: 0.7115  -  lr: 0.01  -  time: 7.011212110519409\n",
      "Epoch 10   train loss: 0.4898  -  val loss: 0.7756  -  val accuracy: 0.7114  -  val ROC AUC: 0.7145  -  lr: 0.001  -  time: 6.08524489402771\n",
      "Epoch 11   train loss: 0.4398  -  val loss: 0.7724  -  val accuracy: 0.7123  -  val ROC AUC: 0.7173  -  lr: 0.001  -  time: 6.018738269805908\n",
      "Epoch 12   train loss: 0.4330  -  val loss: 0.7717  -  val accuracy: 0.7131  -  val ROC AUC: 0.7199  -  lr: 0.001  -  time: 5.803049564361572\n",
      "Epoch 13   train loss: 0.4288  -  val loss: 0.7723  -  val accuracy: 0.7130  -  val ROC AUC: 0.7222  -  lr: 0.001  -  time: 5.484786033630371\n",
      "Epoch 14   train loss: 0.4256  -  val loss: 0.7734  -  val accuracy: 0.7131  -  val ROC AUC: 0.7243  -  lr: 0.001  -  time: 5.756837844848633\n",
      "Epoch 15   train loss: 0.4231  -  val loss: 0.7748  -  val accuracy: 0.7132  -  val ROC AUC: 0.7262  -  lr: 0.001  -  time: 7.833105564117432\n",
      "Epoch 16   train loss: 0.4209  -  val loss: 0.7762  -  val accuracy: 0.7128  -  val ROC AUC: 0.7280  -  lr: 0.001  -  time: 6.419288873672485\n",
      "Epoch 17   train loss: 0.4190  -  val loss: 0.7778  -  val accuracy: 0.7126  -  val ROC AUC: 0.7295  -  lr: 0.001  -  time: 6.458115577697754\n",
      "Epoch 18   train loss: 0.4173  -  val loss: 0.7793  -  val accuracy: 0.7128  -  val ROC AUC: 0.7310  -  lr: 0.001  -  time: 5.923745155334473\n",
      "Epoch 19   train loss: 0.4157  -  val loss: 0.7808  -  val accuracy: 0.7123  -  val ROC AUC: 0.7323  -  lr: 0.001  -  time: 5.862993955612183\n",
      "Epoch 20   train loss: 0.4140  -  val loss: 0.7825  -  val accuracy: 0.7121  -  val ROC AUC: 0.7335  -  lr: 0.0005  -  time: 6.000173807144165\n",
      "Epoch 21   train loss: 0.4096  -  val loss: 0.7834  -  val accuracy: 0.7121  -  val ROC AUC: 0.7346  -  lr: 0.0005  -  time: 7.811384916305542\n",
      "Epoch 22   train loss: 0.4090  -  val loss: 0.7843  -  val accuracy: 0.7120  -  val ROC AUC: 0.7357  -  lr: 0.0005  -  time: 7.3517842292785645\n",
      "Epoch 23   train loss: 0.4081  -  val loss: 0.7853  -  val accuracy: 0.7119  -  val ROC AUC: 0.7366  -  lr: 0.0005  -  time: 6.156157493591309\n",
      "Epoch 24   train loss: 0.4075  -  val loss: 0.7862  -  val accuracy: 0.7117  -  val ROC AUC: 0.7375  -  lr: 0.0005  -  time: 6.018756628036499\n",
      "Epoch 25   train loss: 0.4067  -  val loss: 0.7871  -  val accuracy: 0.7118  -  val ROC AUC: 0.7383  -  lr: 0.0005  -  time: 5.484537839889526\n",
      "Epoch 26   train loss: 0.4061  -  val loss: 0.7881  -  val accuracy: 0.7117  -  val ROC AUC: 0.7391  -  lr: 0.0005  -  time: 5.754953145980835\n",
      "Epoch 27   train loss: 0.4056  -  val loss: 0.7890  -  val accuracy: 0.7114  -  val ROC AUC: 0.7398  -  lr: 0.0005  -  time: 5.224738121032715\n",
      "Epoch 28   train loss: 0.4046  -  val loss: 0.7899  -  val accuracy: 0.7113  -  val ROC AUC: 0.7405  -  lr: 0.0005  -  time: 5.535582542419434\n",
      "Epoch 29   train loss: 0.4042  -  val loss: 0.7908  -  val accuracy: 0.7113  -  val ROC AUC: 0.7411  -  lr: 0.0005  -  time: 6.487018346786499\n",
      "Epoch 30   train loss: 0.4034  -  val loss: 0.7917  -  val accuracy: 0.7114  -  val ROC AUC: 0.7417  -  lr: 0.0001  -  time: 7.286426782608032\n",
      "Epoch 31   train loss: 0.4004  -  val loss: 0.7919  -  val accuracy: 0.7114  -  val ROC AUC: 0.7423  -  lr: 0.0001  -  time: 6.190650939941406\n",
      "Epoch 32   train loss: 0.4001  -  val loss: 0.7921  -  val accuracy: 0.7115  -  val ROC AUC: 0.7428  -  lr: 0.0001  -  time: 5.731523036956787\n",
      "Epoch 33   train loss: 0.4002  -  val loss: 0.7923  -  val accuracy: 0.7115  -  val ROC AUC: 0.7433  -  lr: 0.0001  -  time: 5.369367361068726\n",
      "Epoch 34   train loss: 0.3999  -  val loss: 0.7925  -  val accuracy: 0.7115  -  val ROC AUC: 0.7438  -  lr: 0.0001  -  time: 5.753932476043701\n",
      "Epoch 35   train loss: 0.3999  -  val loss: 0.7927  -  val accuracy: 0.7116  -  val ROC AUC: 0.7442  -  lr: 0.0001  -  time: 5.555610418319702\n",
      "Epoch 36   train loss: 0.3999  -  val loss: 0.7929  -  val accuracy: 0.7116  -  val ROC AUC: 0.7446  -  lr: 0.0001  -  time: 5.561134099960327\n",
      "Epoch 37   train loss: 0.3996  -  val loss: 0.7931  -  val accuracy: 0.7116  -  val ROC AUC: 0.7450  -  lr: 0.0001  -  time: 5.423225164413452\n",
      "Epoch 38   train loss: 0.3995  -  val loss: 0.7933  -  val accuracy: 0.7115  -  val ROC AUC: 0.7454  -  lr: 0.0001  -  time: 5.455206871032715\n",
      "Epoch 39   train loss: 0.3993  -  val loss: 0.7935  -  val accuracy: 0.7115  -  val ROC AUC: 0.7458  -  lr: 0.0001  -  time: 6.096990346908569\n",
      "Epoch 40   train loss: 0.3992  -  val loss: 0.7937  -  val accuracy: 0.7114  -  val ROC AUC: 0.7461  -  lr: 2e-05  -  time: 6.682512283325195\n",
      "Epoch 41   train loss: 0.3987  -  val loss: 0.7938  -  val accuracy: 0.7114  -  val ROC AUC: 0.7465  -  lr: 2e-05  -  time: 5.805411338806152\n",
      "Epoch 42   train loss: 0.3986  -  val loss: 0.7938  -  val accuracy: 0.7114  -  val ROC AUC: 0.7468  -  lr: 2e-05  -  time: 5.910860538482666\n",
      "Epoch 43   train loss: 0.3986  -  val loss: 0.7939  -  val accuracy: 0.7114  -  val ROC AUC: 0.7471  -  lr: 2e-05  -  time: 5.583993196487427\n",
      "Epoch 44   train loss: 0.3986  -  val loss: 0.7939  -  val accuracy: 0.7114  -  val ROC AUC: 0.7474  -  lr: 2e-05  -  time: 5.410415172576904\n",
      "Epoch 45   train loss: 0.3985  -  val loss: 0.7939  -  val accuracy: 0.7114  -  val ROC AUC: 0.7477  -  lr: 2e-05  -  time: 5.515881538391113\n",
      "Epoch 46   train loss: 0.3984  -  val loss: 0.7940  -  val accuracy: 0.7114  -  val ROC AUC: 0.7479  -  lr: 2e-05  -  time: 5.515223026275635\n",
      "Epoch 47   train loss: 0.3984  -  val loss: 0.7940  -  val accuracy: 0.7114  -  val ROC AUC: 0.7482  -  lr: 2e-05  -  time: 6.740081787109375\n",
      "Epoch 48   train loss: 0.3984  -  val loss: 0.7941  -  val accuracy: 0.7114  -  val ROC AUC: 0.7484  -  lr: 2e-05  -  time: 5.874966621398926\n",
      "Epoch 49   train loss: 0.3986  -  val loss: 0.7941  -  val accuracy: 0.7114  -  val ROC AUC: 0.7487  -  lr: 2e-05  -  time: 6.055708169937134\n",
      "Epoch 50   train loss: 0.3984  -  val loss: 0.7941  -  val accuracy: 0.7114  -  val ROC AUC: 0.7489  -  lr: 2e-05  -  time: 5.723241329193115\n"
     ]
    }
   ],
   "source": [
    "logs = []\n",
    "first_epoch = True\n",
    "for epoch in range(51):\n",
    "    current_log = {'epoch': epoch, 'loss_train': 0., 'loss_val': 0., 'val_acc':0., 'val_AUC':0., 'lr': optimizer.param_groups[0][\"lr\"]}\n",
    "    start_time = time.time()\n",
    "    for phase in ['train', 'val']:\n",
    "        if phase == 'train':\n",
    "            model.train()\n",
    "        else:\n",
    "            model.eval()\n",
    "\n",
    "        for sample_batched in loaders[phase]:\n",
    "            optimizer.zero_grad()\n",
    "\n",
    "            user_indices, movie_indices, label = sample_batched\n",
    "            user_indices = user_indices.to(DEVICE)\n",
    "            movie_indices = movie_indices.to(DEVICE)\n",
    "            label = label.type(torch.float32).to(DEVICE)\n",
    "            pred = model(user_indices, movie_indices)  \n",
    "            loss = criterion(pred, label)\n",
    "\n",
    "            current_log[f\"loss_{phase}\"] += loss.item() * batch_size\n",
    "            with torch.set_grad_enabled(phase == 'train'):\n",
    "                if phase == 'train':\n",
    "                    loss.backward()\n",
    "                    optimizer.step()\n",
    "            if phase == 'val':\n",
    "                metric.update(pred, label)\n",
    "                current_log['val_acc'] += (ptb(pred)==label).type(torch.float32).sum(0).item()\n",
    "        current_log[f\"loss_{phase}\"] /= len(loaders[phase].dataset)\n",
    "    current_log['val_acc'] /= len(loaders['val'].dataset)\n",
    "    current_log['val_AUC'] = metric.compute().item()\n",
    "    scheduler.step()\n",
    "    \n",
    "    if current_log['val_acc'] > best_val_score:\n",
    "        torch.save(model.state_dict(), 'MF.pth')\n",
    "        best_val_score = current_log['val_acc']\n",
    "    else:\n",
    "        if first_epoch==False:\n",
    "            if epoch < 20:\n",
    "                if (best_val_score - current_log['val_acc']) > 0.04:\n",
    "                    model.load_state_dict(torch.load('MF.pth'))\n",
    "            else:\n",
    "                if (best_val_score - current_log['val_acc']) > 0.02:\n",
    "                    model.load_state_dict(torch.load('MF.pth'))\n",
    "\n",
    "    print(f'Epoch {epoch}   train loss: {current_log[\"loss_train\"]:.4f}  -  val loss: {current_log[\"loss_val\"]:.4f}  -  val accuracy: {current_log[\"val_acc\"]:.4f}  -  val ROC AUC: {current_log[\"val_AUC\"]:.4f}  -  lr: {optimizer.param_groups[0][\"lr\"]}  -  time: {str(time.time()-start_time)}')\n",
    "    logs.append(current_log)\n",
    "pickle.dump(logs, open(f'logs_MF{num_factors}_{str(datetime.datetime.now())}.pkl', 'wb'))"
   ]
  },
  {
   "cell_type": "code",
   "execution_count": 18,
   "metadata": {},
   "outputs": [],
   "source": [
    "import matplotlib.pyplot as plt"
   ]
  },
  {
   "cell_type": "code",
   "execution_count": 19,
   "metadata": {},
   "outputs": [],
   "source": [
    "loss_trains = np.asarray([logs[i]['loss_train'] for i in range(len(logs))])\n",
    "loss_vals = np.asarray([logs[i]['loss_val'] for i in range(len(logs))])\n",
    "val_accs = np.asarray([logs[i]['val_acc'] for i in range(len(logs))])\n",
    "lrs = np.asarray([logs[i]['lr'] for i in range(len(logs))])"
   ]
  },
  {
   "cell_type": "code",
   "execution_count": 20,
   "metadata": {},
   "outputs": [
    {
     "data": {
      "text/plain": [
       "<matplotlib.legend.Legend at 0x7f32b9340730>"
      ]
     },
     "execution_count": 20,
     "metadata": {},
     "output_type": "execute_result"
    },
    {
     "data": {
      "image/png": "[encoded data removed]",
      "text/plain": [
       "<Figure size 640x480 with 1 Axes>"
      ]
     },
     "metadata": {},
     "output_type": "display_data"
    }
   ],
   "source": [
    "plt.plot(loss_trains, label='loss_train')\n",
    "plt.plot(loss_vals, label='loss_val')\n",
    "\n",
    "plt.legend()"
   ]
  },
  {
   "cell_type": "code",
   "execution_count": 21,
   "metadata": {},
   "outputs": [
    {
     "data": {
      "text/plain": [
       "<matplotlib.legend.Legend at 0x7f32b9232220>"
      ]
     },
     "execution_count": 21,
     "metadata": {},
     "output_type": "execute_result"
    },
    {
     "data": {
      "image/png": "[encoded data removed]",
      "text/plain": [
       "<Figure size 640x480 with 1 Axes>"
      ]
     },
     "metadata": {},
     "output_type": "display_data"
    }
   ],
   "source": [
    "plt.plot(val_accs, label='val_acc')\n",
    "plt.legend()"
   ]
  },
  {
   "cell_type": "code",
   "execution_count": 22,
   "metadata": {},
   "outputs": [
    {
     "data": {
      "text/plain": [
       "0.7132038058420676"
      ]
     },
     "execution_count": 22,
     "metadata": {},
     "output_type": "execute_result"
    }
   ],
   "source": [
    "best_val_score"
   ]
  }
 ],
 "metadata": {
  "kernelspec": {
   "display_name": "py39",
   "language": "python",
   "name": "python3"
  },
  "language_info": {
   "codemirror_mode": {
    "name": "ipython",
    "version": 3
   },
   "file_extension": ".py",
   "mimetype": "text/x-python",
   "name": "python",
   "nbconvert_exporter": "python",
   "pygments_lexer": "ipython3",
   "version": "3.9.16"
  },
  "orig_nbformat": 4
 },
 "nbformat": 4,
 "nbformat_minor": 2
}
